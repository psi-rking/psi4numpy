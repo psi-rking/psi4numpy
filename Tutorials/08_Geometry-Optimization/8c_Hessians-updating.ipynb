{
 "cells": [
  {
   "cell_type": "markdown",
   "metadata": {},
   "source": [
    "# Updating Hessians\n",
    "The most common Hessian update formula is the BFGS update.  This formula results in a positive-definite Hessian matrix with all real eigenvalues.  So it is not suitable for transition-state optimizations.  For the formulae for BFGS, Powell, MS, and other update schemes see J.M. Bofill, _J. Comp. Chem._, 15, 1 (1994), or V. Bakken and T. Helgaker, _J. Chem. Phys._, 117, 9160 (2002).\n",
    "\n",
    "Below, we will take a geometry optimization step, to obtain internal coordinate values and forces at two different points on the potential energy surface.  We will use the BFGS update to update the Hessian matrix.  For details of how the actual step is taken, see the later tutorials."
   ]
  },
  {
   "cell_type": "code",
   "execution_count": 1,
   "metadata": {
    "collapsed": false
   },
   "outputs": [
    {
     "name": "stdout",
     "output_type": "stream",
     "text": [
      " R(1,2)\n",
      " R(1,3)\n",
      " B(2,1,3)\n"
     ]
    }
   ],
   "source": [
    "import psi4\n",
    "from psi4 import *\n",
    "from psi4.core import *\n",
    "import numpy as np\n",
    "\n",
    "mol = psi4.geometry(\"\"\"\n",
    "O\n",
    "H 1 0.9\n",
    "H 1 0.9 2 104\n",
    "\"\"\")\n",
    "psi4.set_options({\"basis\": \"cc-pvdz\"})\n",
    "mol.update_geometry()\n",
    "\n",
    "# Make the internal coordinates manually.\n",
    "from optking import stre, bend\n",
    "intcos = [stre.STRE(0,1), stre.STRE(0,2), bend.BEND(1,0,2)]\n",
    "for intco in intcos: \n",
    "    print (intco) \n",
    "Natom = 3\n",
    "Nintco = len(intcos)"
   ]
  },
  {
   "cell_type": "code",
   "execution_count": 2,
   "metadata": {
    "collapsed": false
   },
   "outputs": [
    {
     "name": "stdout",
     "output_type": "stream",
     "text": [
      "\n",
      "\tGenerating molecular system for optimization from PSI4.\n",
      "\t1 Fragments in PSI4 molecule object.\n",
      "\tCreating fragment 1 with 3 atoms\n",
      "Schlegel Guess Hessian for Water (in au)\n",
      "[[ 0.70672641  0.          0.        ]\n",
      " [ 0.          0.70672641  0.        ]\n",
      " [ 0.          0.          0.16      ]]\n",
      "\tTaking NR optimization step.\n",
      "\tNorm of target step-size    0.1366991994\n",
      "\tProjected energy change by quadratic approximation:        -0.0059734909\n",
      "\tBeginnning displacement in cartesian coordinates...\n",
      "\tSuccessfully converged to displaced geometry.\n",
      "\n",
      "\t       --- Internal Coordinate Step in ANG or DEG, aJ/ANG or AJ/DEG ---\n",
      "\t-----------------------------------------------------------------------------\n",
      "\t         Coordinate      Previous         Force        Change          New \n",
      "\t         ----------      --------        ------        ------        ------\n",
      "\t             R(1,2)       0.90000       0.52698       0.04789       0.94789\n",
      "\t             R(1,3)       0.90000       0.52698       0.04789       0.94789\n",
      "\t           B(2,1,3)     104.00000       0.00058       2.74990     106.74990\n",
      "\t-----------------------------------------------------------------------------\n",
      "\tNorm of achieved step-size    0.1366991994\n",
      "Internal Values first step\n",
      "[ 1.70075352  1.70075352  1.81514242]\n",
      "Internal Values second step\n",
      "[ 1.79126091  1.79126091  1.86313717]\n",
      "Internal Forces first step\n",
      "[ 0.06396396  0.06396396  0.00767916]\n",
      "Internal Forces second step\n",
      "[-0.00287708 -0.00287708 -0.00655965]\n"
     ]
    }
   ],
   "source": [
    "# Initialize optking\n",
    "from optking import printInit\n",
    "printInit()\n",
    "import optking.optParams as op\n",
    "userOptions={} # assume no special options\n",
    "op.Params = op.OPT_PARAMS(userOptions)\n",
    "mol = core.get_active_molecule()\n",
    "import optking.molsys\n",
    "Molsys = optking.molsys.MOLSYS.fromPsi4Molecule(mol)\n",
    "Molsys._fragments[0].intcos = intcos # assign internals manually\n",
    "xyz = np.array(mol.geometry())\n",
    "Z = [int(mol.Z(i)) for i in range(Natom)]\n",
    "\n",
    "H = np.zeros((Nintco,Nintco), float)\n",
    "for i,intco in enumerate(intcos):\n",
    "    H[i,i] = intco.diagonalHessianGuess(xyz, Z, guessType=\"SCHLEGEL\")\n",
    "print \"Schlegel Guess Hessian for Water (in au)\"\n",
    "print (H)\n",
    "\n",
    "# Compute internal coordinate forces\n",
    "import math\n",
    "def symmMatInv(A):\n",
    "    dim = A.shape[0]\n",
    "    det = 1.0\n",
    "\n",
    "    evals, evects = np.linalg.eigh(A)\n",
    "    evects = evects.T\n",
    "    for i in range(dim):\n",
    "        det *= evals[i]\n",
    "\n",
    "    diagInv = np.zeros( (dim,dim), float)\n",
    "    for i in range(dim):\n",
    "        if math.fabs(evals[i]) > 1.0e-10:\n",
    "            diagInv[i,i] = 1.0/evals[i]\n",
    "            \n",
    "    # A^-1 = P^t D^-1 P\n",
    "    tmpMat = np.dot(diagInv, evects)\n",
    "    AInv = np.dot(evects.T, tmpMat)\n",
    "    return AInv\n",
    "\n",
    "Ncart = 3*Natom\n",
    "\n",
    "# Compute B and A^T matrices\n",
    "from optking import intcosMisc\n",
    "B = intcosMisc.Bmat(intcos, xyz)\n",
    "G = np.dot(B, B.T)\n",
    "Ginv = symmMatInv(G)\n",
    "Atranspose = np.dot(Ginv, B)\n",
    "\n",
    "q_1 = intcosMisc.qValues(intcos, Molsys.geom)\n",
    "E_1 = psi4.energy('scf')\n",
    "g_x1 = np.reshape( np.array( psi4.gradient('scf')), (3*Natom))\n",
    "\n",
    "# Save initial step info\n",
    "from optking import history\n",
    "f_q1 = -1 * np.dot( Atranspose, g_x1)\n",
    "history.History.append(Molsys.geom, E_1, f_q1); # Save initial step info.\n",
    "\n",
    "from optking import stepAlgorithms\n",
    "Dq = stepAlgorithms.Dq_NR(Molsys, E_1, f_q1, H)\n",
    "\n",
    "# Put new geometry into place and compute gradient again\n",
    "psi_geom = core.Matrix.from_array( Molsys.geom )\n",
    "mol.set_geometry( psi_geom )\n",
    "mol.update_geometry()\n",
    "\n",
    "q_2 = intcosMisc.qValues(intcos, Molsys.geom)\n",
    "g_x2 = np.reshape( np.array( psi4.gradient('scf')), (3*Natom))\n",
    "f_q2 = -1 * np.dot(Atranspose, g_x2)\n",
    "\n",
    "print \"Internal Values first step\"\n",
    "print (q_1)\n",
    "print \"Internal Values second step\"\n",
    "print (q_2)\n",
    "\n",
    "print \"Internal Forces first step\"\n",
    "print (f_q1)\n",
    "print \"Internal Forces second step\"\n",
    "print (f_q2)"
   ]
  },
  {
   "cell_type": "markdown",
   "metadata": {},
   "source": [
    "Here we will carry out the BFGS update for the first two gradients.  The update may be carried out using all past gradients if desired, though information from distant parts of the potential surface may not be relevant or helpful."
   ]
  },
  {
   "cell_type": "code",
   "execution_count": 3,
   "metadata": {
    "collapsed": false
   },
   "outputs": [
    {
     "name": "stdout",
     "output_type": "stream",
     "text": [
      "Updated Hessian with BFGS\n",
      "[[ 0.7137803   0.00705389  0.03334153]\n",
      " [ 0.00705389  0.7137803   0.03334153]\n",
      " [ 0.03334153  0.03334153  0.17092498]]\n"
     ]
    }
   ],
   "source": [
    "H_new = np.zeros( (Nintco,Nintco) , float)\n",
    "dq = np.zeros(Nintco, float)\n",
    "dg = np.zeros(Nintco, float)\n",
    "\n",
    "dq[:] = q_2 - q_1\n",
    "dg[:] = f_q1 - f_q2   # gradients -- not forces!\n",
    "\n",
    "gq = np.dot(dq, dg)\n",
    "\n",
    "for i in range(Nintco):\n",
    "    for j in range(Nintco):\n",
    "        H_new[i,j] = H[i,j] + dg[i] * dg[j] / gq\n",
    "\n",
    "Hdq = np.dot(H, dq)\n",
    "dqHdq = np.dot(dq, Hdq)\n",
    "\n",
    "for i in range(Nintco):\n",
    "    for j in range(Nintco):\n",
    "        H_new[i,j] -=  Hdq[i] * Hdq[j] / dqHdq\n",
    "        \n",
    "print \"Updated Hessian with BFGS\"\n",
    "print (H_new)"
   ]
  },
  {
   "cell_type": "markdown",
   "metadata": {
    "collapsed": true
   },
   "source": [
    "We see that the Hessian in this case was not much changed by the update.  The first diagonal (stretching) element changes from 0.707 -> 0.714, while the bend changes from 0.16 -> 0.17.\n",
    "\n",
    "However, if one repeats this demonstration with an initial Hessian guess set to \"SIMPLE\", then the initial Hessian guess is poorer (0.50 for the stretch), and the changes made by the first update (e.g., to 0.59 for the stretch) are more substantial."
   ]
  }
 ],
 "metadata": {
  "kernelspec": {
   "display_name": "Python 2",
   "language": "python",
   "name": "python2"
  },
  "language_info": {
   "codemirror_mode": {
    "name": "ipython",
    "version": 2
   },
   "file_extension": ".py",
   "mimetype": "text/x-python",
   "name": "python",
   "nbconvert_exporter": "python",
   "pygments_lexer": "ipython2",
   "version": "2.7.10"
  }
 },
 "nbformat": 4,
 "nbformat_minor": 2
}
