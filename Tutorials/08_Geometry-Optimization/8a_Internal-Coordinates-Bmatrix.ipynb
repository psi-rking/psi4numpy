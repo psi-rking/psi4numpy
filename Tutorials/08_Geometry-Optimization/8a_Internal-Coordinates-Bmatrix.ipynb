{
 "cells": [
  {
   "cell_type": "markdown",
   "metadata": {},
   "source": [
    "# Redundant Internal Coordinates and B-matrix\n",
    "#### This is a tutorial for the conversion to and from internal coordinates using the B matrix.\n",
    "\n",
    "Redundent Internal Coordiantes, as proposed by Bakken and Helgaker, are defined using stretches, bends, and dihedral angles. Including vibrational motions, there are up to 3N-6 degrees of freedom for a molecule. Defining water with internal coordinates, there are two stretches, and one bend this defining all degrees of freedom. For molecules with more than three atoms, the number of internal coordiantes quickly becomes greater than the number of degrees of freedom and thus redundant.  \n",
    "\n",
    "In order to convert cartesian coordiantes to internal coordinates, Wilson B matrix is used. The B matrix is defined as the derivative of the internal coordinates with respect to cartesian coordinates, and has dimensions of internal coordinates by 3 * N. \n",
    "\n",
    "$$\\textbf {B}_{ij} = \\frac{\\delta q_i}{\\delta x_j}$$\n",
    "\n",
    "Simple rearrangment allows for the conversion between small changes in cartesian geometry to internal coordinates\n",
    "$$\\textbf {B}_{ij} \\delta x = \\delta q$$\n",
    "\n",
    "This does not allow for the direct conversion between the geometry in cartesians and in internals. However, this isn't particularly helpful, since our goal is usually to conver a change in internal coordinates to cartesians which is covered later in discussing the back transformation. To create the internal geometry, we need to calculate the distances and angles using simple geometry.\n",
    "\n",
    "Lets start by defining a simple cartesian geometry for ammonia and then defining all of the internal coordinates for the molecule. Note that the number of internal coordinates is greater than the number of degrees of freedom."
   ]
  },
  {
   "cell_type": "code",
   "execution_count": null,
   "metadata": {
    "collapsed": false,
    "scrolled": false
   },
   "outputs": [],
   "source": [
    "import psi4\n",
    "import numpy as np\n",
    "from optking import printTools\n",
    "printTools.printInit(printTools.cleanPrint)\n",
    "printTools.print_opt(\"hi\")\n",
    "\n",
    "#a starting geometry can be taken from pubchem\n",
    "mol = psi4.geometry(\"\"\"\n",
    "  pubchem:ammonium\n",
    "\"\"\")\n",
    "mol.set_multiplicity (1)\n",
    "mol.set_molecular_charge(1)\n",
    "\n",
    "# Set some options\n",
    "psi4.set_options({\"basis\": \"cc-pvdz\",\n",
    "                  \"scf_type\": \"pk\",\n",
    "                  \"e_convergence\": 1e-8})\n",
    "mol.update_geometry()\n",
    "xyzGeom = np.array(mol.geometry())\n",
    "print (\"Starting Geometry for Ammonium\")\n",
    "print (xyzGeom)\n",
    "\n",
    "\n",
    "from optking import stre, bend\n",
    "r1 = stre.STRE(0,1)\n",
    "r2 = stre.STRE(0,2)\n",
    "r3 = stre.STRE(0,3)\n",
    "r4 = stre.STRE(0,4)\n",
    "b1 = bend.BEND(1,0,2)\n",
    "b2 = bend.BEND(2,0,3)\n",
    "b3 = bend.BEND(3,0,4)\n",
    "b4 = bend.BEND(4,0,1)\n",
    "b5 = bend.BEND(4,0,2)\n",
    "b6 = bend.BEND(3,0,1)\n",
    "intcos = (r1, r2, r3, r4, b1, b2, b3, b4, b5, b6)\n",
    "\n",
    "print (\"\\nList of internal Coordinates in Bohr and Radians\")\n",
    "for i in range (len(intcos)):\n",
    "    #q(xyzGeom) simply calls v3d.dist() for the two atoms in a stretch, and v3d.angle() for the three atoms in a bond angle\n",
    "    print (\" %d %s %.16f\" % (i + 1, intcos[i], intcos[i].q(xyzGeom)))\n",
    "\n",
    "#create an array for geometry in internals\n",
    "qGeom = np.zeros(len(intcos), float)\n",
    "for i in range (len(intcos)):\n",
    "    qGeom[i] = intcos[i].q(xyzGeom)\n",
    "\n",
    "print(\"\\n Geometry in internals\")    \n",
    "printTools.printArray(qGeom)    "
   ]
  },
  {
   "cell_type": "code",
   "execution_count": null,
   "metadata": {
    "collapsed": true
   },
   "outputs": [],
   "source": [
    "from optking import intcosMisc\n",
    "Bmatrix = intcosMisc.Bmat(intcos, xyz)\n",
    "print('B matrix')\n",
    "print(Bmatrix)"
   ]
  },
  {
   "cell_type": "markdown",
   "metadata": {},
   "source": [
    "Our goal is to calculate the step in internal coordintes, this requires that either the forces or gradient are converted into internals.\n",
    "\n",
    "In order to convert between the gradient or forces we need to introduce $\\delta E$ luckily this easily simplifies to the form we need\n",
    "\n",
    "$$\\frac{\\textbf {B}}{\\delta q} = (\\delta x)^{-1} \\equiv \\frac{\\delta q}{\\delta x} \\frac{\\delta E}{\\delta q} = \\frac{\\delta E}{\\delta x} \\equiv \\textbf{B}^T g_q = g_x$$ \n",
    "\n",
    "First lets get the gradient from Psi4, which is in cartesian"
   ]
  },
  {
   "cell_type": "code",
   "execution_count": null,
   "metadata": {
    "collapsed": false
   },
   "outputs": [],
   "source": [
    "psi4gradientMatrix = psi4.gradient('hf')\n",
    "g = np.array( psi4gradientMatrix )\n",
    "print (g)"
   ]
  },
  {
   "cell_type": "markdown",
   "metadata": {},
   "source": []
  }
 ],
 "metadata": {
  "kernelspec": {
   "display_name": "Python 2",
   "language": "python",
   "name": "python2"
  },
  "language_info": {
   "codemirror_mode": {
    "name": "ipython",
    "version": 2
   },
   "file_extension": ".py",
   "mimetype": "text/x-python",
   "name": "python",
   "nbconvert_exporter": "python",
   "pygments_lexer": "ipython2",
   "version": "2.7.10"
  }
 },
 "nbformat": 4,
 "nbformat_minor": 2
}
