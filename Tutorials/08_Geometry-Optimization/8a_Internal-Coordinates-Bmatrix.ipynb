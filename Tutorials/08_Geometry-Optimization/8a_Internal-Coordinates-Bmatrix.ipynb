{
 "cells": [
  {
   "cell_type": "markdown",
   "metadata": {},
   "source": [
    "# Internal Coordinates and B-matrix\n",
    "\n",
    "## Defining bonds\n",
    "Assuming a reasonable initial geometrical input, the identification of which atoms are bonded may, in most cases, be simply achieved using standard covalent radii."
   ]
  },
  {
   "cell_type": "code",
   "execution_count": 34,
   "metadata": {
    "collapsed": false
   },
   "outputs": [
    {
     "name": "stdout",
     "output_type": "stream",
     "text": [
      "\tSearching PubChem database for ammonium\n",
      "\tFound 1 result\n",
      "Starting Geometry for Ammonium\n",
      "[[  0.00000000e+00  -8.29781462e-35   3.92826956e-06]\n",
      " [  1.58424594e+00   4.85035429e-17   1.12021175e+00]\n",
      " [  4.85021276e-17  -1.58419971e+00  -1.12023904e+00]\n",
      " [ -1.58424594e+00  -4.85035429e-17   1.12021175e+00]\n",
      " [ -4.85021276e-17   1.58419971e+00  -1.12023904e+00]]\n",
      "[[False  True  True  True  True]\n",
      " [ True False False False False]\n",
      " [ True False False False False]\n",
      " [ True False False False False]\n",
      " [ True False False False False]]\n"
     ]
    }
   ],
   "source": [
    "import psi4\n",
    "import numpy as np\n",
    "mol = psi4.geometry(\"\"\"\n",
    "  pubchem:ammonium\n",
    "\"\"\")\n",
    "mol.update_geometry()\n",
    "xyzGeom = np.array(mol.geometry())\n",
    "print (\"Starting Geometry for Ammonium\")\n",
    "print (xyzGeom) \n",
    "\n",
    "# Determine the connectivity using standard covalent radii\n",
    "import covRadii\n",
    "from itertools import combinations, permutations\n",
    "from math import sqrt\n",
    "from optking import v3d\n",
    "Natom = len(xyzGeom)\n",
    "Z= [mol.Z(i) for i in range(Natom)]\n",
    "C = np.zeros( (Natom, Natom), bool )\n",
    "for i,j in combinations( range(Natom), 2):\n",
    "  R = v3d.dist( xyzGeom[i], xyzGeom[j])\n",
    "  Rcov = (covRadii.R[int(Z[i])] + covRadii.R[int(Z[j])])/0.52917720859\n",
    "  if R < 1.3 * Rcov:\n",
    "    C[i,j] = C[j,i] = True\n",
    "print (C)\n"
   ]
  },
  {
   "cell_type": "markdown",
   "metadata": {},
   "source": [
    "## Determining internal coordinates automatically\n",
    "Once the connectivity is determined, the chemically relevant bonds, angles, and dihedral angles can be determined from the connected atoms.  Linear bends require special treatment that will not be shown here.  For this example, of ammonia there are no dihedral angles, but similarly for dihedral angles, non-linear sequences of atoms (A-B-C-D) are used to define dihedral coordinates which are included."
   ]
  },
  {
   "cell_type": "code",
   "execution_count": 43,
   "metadata": {
    "collapsed": false
   },
   "outputs": [
    {
     "name": "stdout",
     "output_type": "stream",
     "text": [
      "    R(1,2) =    1.94028\n",
      "    R(1,3) =    1.94027\n",
      "    R(1,4) =    1.94028\n",
      "    R(1,5) =    1.94027\n",
      "  B(2,1,3) =    1.91064\n",
      "  B(2,1,4) =    1.91065\n",
      "  B(2,1,5) =    1.91064\n",
      "  B(3,1,4) =    1.91064\n",
      "  B(3,1,5) =    1.91060\n",
      "  B(4,1,5) =    1.91064\n"
     ]
    }
   ],
   "source": [
    "intcos = []\n",
    "from optking import v3d\n",
    "# add stretches by connectivity\n",
    "from optking import stre\n",
    "for i,j in combinations( range(Natom), 2 ):\n",
    "  if C[i,j]:\n",
    "    s = stre.STRE(i, j)\n",
    "    if s not in intcos:\n",
    "      intcos.append(s)\n",
    "\n",
    "# add bends by connectivity\n",
    "from optking import bend\n",
    "for i,j in permutations( range(Natom), 2):\n",
    "  if C[i,j]:\n",
    "    for k in range(i+1,Natom):  # make i<k; the constructor checks too\n",
    "      if C[j,k]:\n",
    "        (check, val) = v3d.angle(xyzGeom[i], xyzGeom[j], xyzGeom[k])\n",
    "        if not check: continue\n",
    "        b = bend.BEND(i, j, k)\n",
    "        if b not in intcos:\n",
    "          intcos.append(b)\n",
    "          \n",
    "for i in intcos:\n",
    "    print \"%10s = %10.5f\" % (i, i.q(xyzGeom))"
   ]
  },
  {
   "cell_type": "code",
   "execution_count": 33,
   "metadata": {
    "collapsed": true
   },
   "outputs": [],
   "source": [
    "psi4.set_options({\"basis\": \"cc-pvdz\",\n",
    "                  \"scf_type\": \"pk\",\n",
    "                  \"e_convergence\": 1e-8})"
   ]
  },
  {
   "cell_type": "markdown",
   "metadata": {},
   "source": [
    "These internal coordinates have many advantages. They tend to produce a strongly diagonal second derivative matrix (Hessian), and they have force constants which are readily guessable.  For many years, the primary difficulty is that the simple procedure illustrated here generates too many coordinates. Non-linear molecules have 3N-5 internal degrees of freedom, but including the simple internals between all bonded atoms will generally produce more coordinates.\n",
    "\n",
    "For ammonia, we have 10 coordinates, while the molecule has only 7 degrees of freedom.  Various alternative coordinate systems were explored, for example \"delocalized coordinates\", and \"natural internal coordinates\".  However, an elegant and robust solution turned out to be simply to work with a redudant set and make the necessary mathematical adjustments.  This approach was advanced by Peng and Ayala [reference]."
   ]
  },
  {
   "cell_type": "markdown",
   "metadata": {},
   "source": [
    "The Wilson B matrix is the key element in typical transformations between internal and cartesian coordinates.  The B matrix is defined as the derivative of the internal coordinates with respect to cartesian coordinates, and has dimensions of internal coordinates by 3 * N. \n",
    "\n",
    "$$\\textbf {B}_{ij} = \\frac{\\delta q_i}{\\delta x_j}$$\n",
    "\n",
    "Simple rearrangment allows for the conversion between small changes in cartesian geometry to internal coordinates\n",
    "$$\\textbf {B}_{ij} \\delta x = \\delta q$$\n",
    "\n",
    "This does not allow for the direct conversion between the geometry in cartesians and in internals. However, this isn't particularly helpful, since our goal is usually to conver a change in internal coordinates to cartesians which is covered later in discussing the back transformation. To create the internal geometry, we need to calculate the distances and angles using simple geometry.\n",
    "\n",
    "Lets start by defining a simple cartesian geometry for ammonia and then defining all of the internal coordinates for the molecule. Note that the number of internal coordinates is greater than the number of degrees of freedom."
   ]
  },
  {
   "cell_type": "code",
   "execution_count": null,
   "metadata": {
    "collapsed": false,
    "scrolled": false
   },
   "outputs": [],
   "source": [
    "mol.set_multiplicity (1)\n",
    "mol.set_molecular_charge(1)\n",
    "\n",
    "# Set some options\n",
    "psi4.set_options({\"basis\": \"cc-pvdz\",\n",
    "                  \"scf_type\": \"pk\",\n",
    "                  \"e_convergence\": 1e-8})\n",
    "mol.update_geometry()\n",
    "xyzGeom = np.array(mol.geometry())\n",
    "print (\"Starting Geometry for Ammonium\")\n",
    "print (xyzGeom)\n",
    "\n",
    "\n",
    "from optking import stre, bend\n",
    "r1 = stre.STRE(0,1)\n",
    "r2 = stre.STRE(0,2)\n",
    "r3 = stre.STRE(0,3)\n",
    "r4 = stre.STRE(0,4)\n",
    "b1 = bend.BEND(1,0,2)\n",
    "b2 = bend.BEND(2,0,3)\n",
    "b3 = bend.BEND(3,0,4)\n",
    "b4 = bend.BEND(4,0,1)\n",
    "b5 = bend.BEND(4,0,2)\n",
    "b6 = bend.BEND(3,0,1)\n",
    "intcos = (r1, r2, r3, r4, b1, b2, b3, b4, b5, b6)\n",
    "\n",
    "print (\"\\nList of internal Coordinates in Bohr and Radians\")\n",
    "for i in range (len(intcos)):\n",
    "    #q(xyzGeom) simply calls v3d.dist() for the two atoms in a stretch, and v3d.angle() for the three atoms in a bond angle\n",
    "    print (\" %d %s %.16f\" % (i + 1, intcos[i], intcos[i].q(xyzGeom)))\n",
    "\n",
    "#create an array for geometry in internals\n",
    "qGeom = np.zeros(len(intcos), float)\n",
    "for i in range (len(intcos)):\n",
    "    qGeom[i] = intcos[i].q(xyzGeom)\n",
    "\n",
    "print(\"\\n Geometry in internals\")    \n",
    "printTools.printArray(qGeom)    "
   ]
  },
  {
   "cell_type": "code",
   "execution_count": null,
   "metadata": {
    "collapsed": true
   },
   "outputs": [],
   "source": [
    "from optking import intcosMisc\n",
    "Bmatrix = intcosMisc.Bmat(intcos, xyz)\n",
    "print('B matrix')\n",
    "print(Bmatrix)"
   ]
  },
  {
   "cell_type": "markdown",
   "metadata": {},
   "source": [
    "Our goal is to calculate the step in internal coordintes, this requires that either the forces or gradient are converted into internals.\n",
    "\n",
    "In order to convert between the gradient or forces we need to introduce $\\delta E$ luckily this easily simplifies to the form we need\n",
    "\n",
    "$$\\frac{\\textbf {B}}{\\delta q} = (\\delta x)^{-1} \\equiv \\frac{\\delta q}{\\delta x} \\frac{\\delta E}{\\delta q} = \\frac{\\delta E}{\\delta x} \\equiv \\textbf{B}^T g_q = g_x$$ \n",
    "\n",
    "First lets get the gradient from Psi4, which is in cartesian"
   ]
  },
  {
   "cell_type": "code",
   "execution_count": null,
   "metadata": {
    "collapsed": false
   },
   "outputs": [],
   "source": [
    "psi4gradientMatrix = psi4.gradient('hf')\n",
    "g = np.array( psi4gradientMatrix )\n",
    "print (g)"
   ]
  },
  {
   "cell_type": "markdown",
   "metadata": {},
   "source": []
  }
 ],
 "metadata": {
  "kernelspec": {
   "display_name": "Python 2",
   "language": "python",
   "name": "python2"
  },
  "language_info": {
   "codemirror_mode": {
    "name": "ipython",
    "version": 2
   },
   "file_extension": ".py",
   "mimetype": "text/x-python",
   "name": "python",
   "nbconvert_exporter": "python",
   "pygments_lexer": "ipython2",
   "version": "2.7.10"
  }
 },
 "nbformat": 4,
 "nbformat_minor": 2
}
