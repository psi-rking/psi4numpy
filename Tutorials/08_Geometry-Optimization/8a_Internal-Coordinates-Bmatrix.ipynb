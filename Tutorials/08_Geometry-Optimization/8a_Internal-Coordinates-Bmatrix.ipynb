{
 "cells": [
  {
   "cell_type": "markdown",
   "metadata": {},
   "source": [
    "# Internal Coordinates and the B-matrix\n",
    "\n",
    "## Defining bonds\n",
    "Assuming a reasonable initial geometrical input, the identification of which atoms are bonded may, in most cases, be simply achieved using standard covalent radii."
   ]
  },
  {
   "cell_type": "code",
   "execution_count": 1,
   "metadata": {
    "collapsed": false
   },
   "outputs": [
    {
     "name": "stdout",
     "output_type": "stream",
     "text": [
      "\tSearching PubChem database for ammonium\n",
      "\tFound 1 result\n",
      "Starting Geometry for Ammonium\n",
      "[[  0.00000000e+00  -8.29781462e-35   3.92826956e-06]\n",
      " [  1.58424594e+00   4.85035429e-17   1.12021175e+00]\n",
      " [  4.85021276e-17  -1.58419971e+00  -1.12023904e+00]\n",
      " [ -1.58424594e+00  -4.85035429e-17   1.12021175e+00]\n",
      " [ -4.85021276e-17   1.58419971e+00  -1.12023904e+00]]\n",
      "[[False  True  True  True  True]\n",
      " [ True False False False False]\n",
      " [ True False False False False]\n",
      " [ True False False False False]\n",
      " [ True False False False False]]\n"
     ]
    }
   ],
   "source": [
    "import psi4\n",
    "import numpy as np\n",
    "mol = psi4.geometry(\"\"\"\n",
    "  pubchem:ammonium\n",
    "\"\"\")\n",
    "mol.update_geometry()\n",
    "xyzGeom = np.array(mol.geometry())\n",
    "print (\"Starting Geometry for Ammonium\")\n",
    "print (xyzGeom) \n",
    "\n",
    "# Determine the connectivity using standard covalent radii\n",
    "from optking import covRadii, v3d\n",
    "from itertools import combinations, permutations\n",
    "from math import sqrt\n",
    "Natom = len(xyzGeom)\n",
    "Z= [mol.Z(i) for i in range(Natom)]\n",
    "C = np.zeros( (Natom, Natom), bool )\n",
    "for i,j in combinations( range(Natom), 2):\n",
    "  R = v3d.dist( xyzGeom[i], xyzGeom[j])\n",
    "  Rcov = (covRadii.R[int(Z[i])] + covRadii.R[int(Z[j])])/0.52917720859\n",
    "  if R < 1.3 * Rcov:\n",
    "    C[i,j] = C[j,i] = True\n",
    "    \n",
    "print (C)\n"
   ]
  },
  {
   "cell_type": "markdown",
   "metadata": {},
   "source": [
    "## Determining internal coordinates automatically\n",
    "Once the connectivity is determined, the chemically relevant bonds, angles, and dihedral angles can be determined from the connected atoms.  A stretching coordinate is added for every two bonded atoms, and a bending coordinate is added for all A-B-C sequences of connected atoms. Linear bends require special treatment that will not be shown here.  For this example of ammonia, there are no dihedral angles.  However, generally any bonded sequences A-B-C-D are also taken to define a dihedral coordinate that is added to the set of optimization coordinates."
   ]
  },
  {
   "cell_type": "code",
   "execution_count": 2,
   "metadata": {
    "collapsed": false
   },
   "outputs": [
    {
     "name": "stdout",
     "output_type": "stream",
     "text": [
      "    R(1,2) =    1.94028\n",
      "    R(1,3) =    1.94027\n",
      "    R(1,4) =    1.94028\n",
      "    R(1,5) =    1.94027\n",
      "  B(2,1,3) =    1.91064\n",
      "  B(2,1,4) =    1.91065\n",
      "  B(2,1,5) =    1.91064\n",
      "  B(3,1,4) =    1.91064\n",
      "  B(3,1,5) =    1.91060\n",
      "  B(4,1,5) =    1.91064\n"
     ]
    }
   ],
   "source": [
    "intcos = []\n",
    "# add stretches by connectivity\n",
    "from optking import stre\n",
    "for i,j in combinations( range(Natom), 2 ):\n",
    "  if C[i,j]:\n",
    "    s = stre.STRE(i, j)\n",
    "    if s not in intcos:\n",
    "      intcos.append(s)\n",
    "\n",
    "# add bends by connectivity\n",
    "from optking import bend\n",
    "for i,j in permutations( range(Natom), 2):\n",
    "  if C[i,j]:\n",
    "    for k in range(i+1,Natom):  # make i<k\n",
    "      if C[j,k]:\n",
    "        (check, val) = v3d.angle(xyzGeom[i], xyzGeom[j], xyzGeom[k])\n",
    "        if not check: continue\n",
    "        b = bend.BEND(i, j, k)\n",
    "        if b not in intcos:\n",
    "          intcos.append(b)\n",
    "          \n",
    "# print our internal coordinate set with values\n",
    "for i in intcos:\n",
    "    print \"%10s = %10.5f\" % (i, i.q(xyzGeom))"
   ]
  },
  {
   "cell_type": "markdown",
   "metadata": {},
   "source": [
    "## Redundant Coordinates\n",
    "These simple internal coordinates have many advantages. They tend to produce a strongly diagonal energy second derivative matrix (Hessian), and they have force constants which are readily guessable, i.e., transferable from one molecule to another. In these two respects, they are vastly superior to Cartesian coordinates.\n",
    "\n",
    "For many years, the primary difficulty is that the simple procedure demonstrated here generates too many coordinates. Non-linear molecules have 3N-6 internal degrees of freedom (where N is the number of atoms), but including all the internal coordinates defined by the bond connectivity will generally produce more than that.\n",
    "\n",
    "For ammonia, we see that we have 10 coordinates, while the ion has only 9 internal degrees of freedom. Various alternative coordinate systems were explored, for example \"delocalized coordinates\" [J.Baker, A. Kessi, and B. Delley, _J. Chem. Phys._, 105, 192 (1996)], and \"natural internal coordinates\" [G. Fogarasi, X. Zhou, P.W. Taylor, and P. Pulay, _J. Am. Chem. Soc._, 114, 8191 (1992)].  However, an elegant and robust solution turned out to be to simply work with a redundant set and to make the necessary mathematical adjustments.  This approach was advanced by P. Pulay and G. Fogarasi [_J. Chem. Phys._, 96, 2856 (1992)]."
   ]
  },
  {
   "cell_type": "markdown",
   "metadata": {},
   "source": [
    "## The B matrix and coordinate transformations\n",
    "\n",
    "The Wilson B-matrix [see the classic text E.B. Wilson, J.C. Decius, and P.C. Cross, _Molecular Vibrations_, Dover (1955)] is the key to typical transformations between internal and Cartesian coordinates.  A B-matrix element is defined as the derivative of an internal coordinate value with respect to a Cartesian coordinate.\n",
    "\n",
    "$$\\textbf {B}_{ij} = \\frac{\\delta q_i}{\\delta x_j}$$\n",
    "\n",
    "The B-matrix therefore has dimensions of (Number of internals) by (Number of Cartesians, or 3N).  A row of the B-matrix (corresponding to a particular internal coordinate) may also be interpreted as the set of Cartesian unit vectors for each atom along which displacing would result in a maximal increase in the value of the coordinate.  (These unit vectors are sometimes called \"s-vectors\".)\n",
    "\n",
    "Lets take a look at the first row of the B-matrix for ammonia:"
   ]
  },
  {
   "cell_type": "code",
   "execution_count": 3,
   "metadata": {
    "collapsed": false
   },
   "outputs": [
    {
     "name": "stdout",
     "output_type": "stream",
     "text": [
      "B matrix - first row\n",
      "[ -8.16502224e-01  -2.49981709e-17  -5.77342289e-01   8.16502224e-01\n",
      "   2.49981709e-17   5.77342289e-01   0.00000000e+00   0.00000000e+00\n",
      "   0.00000000e+00   0.00000000e+00   0.00000000e+00   0.00000000e+00\n",
      "   0.00000000e+00   0.00000000e+00   0.00000000e+00]\n"
     ]
    }
   ],
   "source": [
    "from optking import intcosMisc\n",
    "Bmat = intcosMisc.Bmat(intcos, xyzGeom)\n",
    "print('B matrix - first row')\n",
    "print(Bmat[0])"
   ]
  },
  {
   "cell_type": "markdown",
   "metadata": {},
   "source": [
    "Notice that only the first 6 elements corresponding to the Cartesian coordinates\n",
    "of the first two atoms are non-zero. Since the first internal is R(1,2), only the first 2 atoms are relevant to its definition.  The B-matrix, therefore, is tremendously sparse, when the internal coordinates are restricted to stretches, bends, and dihedrals.\n",
    "\n",
    "For a diatomic, the B-matrix consists of a single row, and the components are simply two vectors pointing outward as shown below."
   ]
  },
  {
   "cell_type": "code",
   "execution_count": 4,
   "metadata": {
    "collapsed": false
   },
   "outputs": [
    {
     "name": "stdout",
     "output_type": "stream",
     "text": [
      "B matrix for hydrogen molecule:\n",
      "[[ -8.16502224e-01  -2.49981709e-17  -5.77342289e-01   8.16502224e-01\n",
      "    2.49981709e-17   5.77342289e-01   0.00000000e+00   0.00000000e+00\n",
      "    0.00000000e+00   0.00000000e+00   0.00000000e+00   0.00000000e+00\n",
      "    0.00000000e+00   0.00000000e+00   0.00000000e+00]]\n"
     ]
    }
   ],
   "source": [
    "H2mol = psi4.geometry(\"\"\"\n",
    "H\n",
    "H 1 0.8\n",
    "\"\"\")\n",
    "H2intcos = [ stre.STRE(0,1) ]\n",
    "H2mol.update_geometry()\n",
    "H2xyzGeom = np.array(mol.geometry())\n",
    "H2Bmat = intcosMisc.Bmat(H2intcos, H2xyzGeom)\n",
    "print(\"B matrix for hydrogen molecule:\")\n",
    "print(H2Bmat)\n"
   ]
  },
  {
   "cell_type": "markdown",
   "metadata": {},
   "source": [
    "The B-matrix is immediately useful for transforming small displacements in Cartesian coordinates into internal coordinates.\n",
    "\n",
    "$$\\textbf {B}_{ij} \\delta x_j = \\delta q_i$$\n",
    "\n",
    "or in matrix vector form\n",
    "\n",
    "$$\\textbf {B} \\Delta \\textbf {x} = \\Delta \\textbf {q} $$\n",
    "\n",
    "However, since the B-matrix depends upon the geometry, this transformation is exact only for infinitesimal displacements."
   ]
  },
  {
   "cell_type": "markdown",
   "metadata": {},
   "source": [
    "## Transformations between internal and Cartesian forces\n",
    "The B-matrix also readily facilitates the transformation of the energy gradient into Cartesian coordinates from internal coordinates.\n",
    "\n",
    "$$ \\frac{\\delta E}{\\delta q_i} \\frac{\\delta q_i}{\\delta x_j} = \\frac{\\delta E}{\\delta x_j}$$ or $$ \\textbf{B} \\textbf{g}_q = \\textbf{g}_x$$ \n",
    "\n",
    "The code below shows how a Cartesian gradient computed with Psi4 for ammonia is then transformed into a gradient in internal coordinates."
   ]
  },
  {
   "cell_type": "code",
   "execution_count": 5,
   "metadata": {
    "collapsed": false
   },
   "outputs": [
    {
     "name": "stdout",
     "output_type": "stream",
     "text": [
      "\tSearching PubChem database for ammonium\n",
      "\tFound 1 result\n",
      "Gradient in Cartesian coordinates\n",
      "[  0.00000000e+00   2.46519033e-32  -2.06186441e-06   8.05561725e-03\n",
      "   2.46632147e-19   5.69463262e-03   2.46334235e-19  -8.04588669e-03\n",
      "  -5.69360169e-03  -8.05561725e-03  -2.46632147e-19   5.69463262e-03\n",
      "  -2.46334235e-19   8.04588669e-03  -5.69360169e-03]\n",
      "Gradient in Internal coordinates\n",
      "[  9.86637203e-03   9.85545106e-03   9.86637203e-03   9.85545106e-03\n",
      "   5.56146023e-07  -5.31072723e-07   5.56146023e-07   5.56146023e-07\n",
      "  -1.69353595e-06   5.56146023e-07]\n"
     ]
    }
   ],
   "source": [
    "mol = psi4.geometry(\"\"\"\n",
    "1 1\n",
    "  pubchem:ammonium\n",
    "\"\"\")\n",
    "mol.update_geometry()\n",
    "psi4.set_options({\"basis\": \"cc-pvdz\", \"scf_type\":\"pk\", \"e_convergence\": 1e-8})\n",
    "psi4gradientMatrix = psi4.gradient('scf')\n",
    "gx = np.reshape( np.array(psi4gradientMatrix), (3*Natom))\n",
    "print (\"Gradient in Cartesian coordinates\")\n",
    "print ( gx )\n",
    "gq = np.dot(Bmat, gx)\n",
    "print (\"Gradient in Internal coordinates\")\n",
    "print ( gq )"
   ]
  }
 ],
 "metadata": {
  "kernelspec": {
   "display_name": "Python 2",
   "language": "python",
   "name": "python2"
  },
  "language_info": {
   "codemirror_mode": {
    "name": "ipython",
    "version": 2
   },
   "file_extension": ".py",
   "mimetype": "text/x-python",
   "name": "python",
   "nbconvert_exporter": "python",
   "pygments_lexer": "ipython2",
   "version": "2.7.10"
  }
 },
 "nbformat": 4,
 "nbformat_minor": 2
}
