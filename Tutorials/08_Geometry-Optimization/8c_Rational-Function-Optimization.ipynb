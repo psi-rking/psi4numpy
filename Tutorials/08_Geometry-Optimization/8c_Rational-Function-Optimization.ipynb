{
 "cells": [
  {
   "cell_type": "markdown",
   "metadata": {},
   "source": [
    "## Rational Function Optimization\n",
    "\n",
    "Rational function Optimization has become the go to algorithm for minimizations, and is the default method for optking. This tutorial will walk through the basic thoery of RFO and a simple calculation. The Partioned-RFO tutorial is an extension of this tutorial, and covers the use of RFO for transition state optimizations.\n",
    "\n",
    "For geometry optimizations, the energy surface can be easily approximated by the truncated taylor expansion\n",
    "$$\\epsilon = E(x) - E_0 = g^+x + \\frac{1}{2}x^+Hx$$\n",
    "alternatively this can be expressed in terms of internal coordiantes (If you want to learn more about how to use internal coordinates, see the redundant internal coordiantes tutorial)\n",
    "$$Q(\\Delta q) = g^T \\Delta q + \\frac{1}{2}\\Delta q^T H \\Delta q$$\n",
    "This can be rewritten using a [2/2] Pade approximation, where S is the scaling matrix\n",
    "$$q(\\Delta q) = \\frac{g^T\\Delta q + \\frac{1}{2} \\Delta q^T \\textbf H \\Delta q}{1 + \\Delta q^T \\textbf S \\Delta q}$$\n",
    "\n",
    "and can again be rewritten as\n",
    "\n",
    "$$q( \\Delta q) = \\frac{ \\frac{1}{2}\\begin{pmatrix} \\Delta{q^T} & 1\\end{pmatrix}\\begin{pmatrix} {\\textbf H} & g \\\\ g^T & 0  \\end{pmatrix}\\begin{pmatrix}\\Delta{q} \\\\ 1\\end{pmatrix} }{ \\begin{pmatrix} \\Delta q^T & 1 \\end{pmatrix} \\begin{pmatrix} \\textbf S & 0  \\\\ 0 & 1 \\end{pmatrix} \\begin{pmatrix} \\Delta q \\\\ 1 \\end{pmatrix}}$$\n",
    "\n",
    "since,\n",
    "$$ \\frac{ \\frac{1}{2}\\begin{pmatrix} \\Delta{q^T} & 1\\end{pmatrix}\\begin{pmatrix} {\\textbf H} & g \\\\ g^T & 0  \\end{pmatrix}\\begin{pmatrix}\\Delta{q} \\\\ 1\\end{pmatrix} }{ \\begin{pmatrix} \\Delta q^T & 1 \\end{pmatrix} \\begin{pmatrix} S & 0  \\\\ 0 & 1 \\end{pmatrix} \\begin{pmatrix} \\Delta q \\\\ 1 \\end{pmatrix} } = \\frac{ \\frac{1}{2} \\begin{pmatrix} \\Delta q^T & 1 \\end{pmatrix} \\Bigg(\\begin{pmatrix} \\textbf{H} \\Delta q \\\\ g^T \\Delta q \\end{pmatrix} + \\begin{pmatrix} g \\\\ 0 \\end{pmatrix}\\Bigg)} { \\begin{pmatrix} \\Delta q^T & 1 \\end{pmatrix} \\Bigg( \\begin{pmatrix} \\textbf S \\Delta q \\\\ 0 \\end{pmatrix} + \\begin{pmatrix} 0 \\\\ 1 \\end{pmatrix}\\Bigg)}$$\n",
    "\n",
    "$$ = \\frac{ \\frac{1}{2}\\begin{pmatrix} \\Delta{q^T} & 1\\end{pmatrix} \\begin{pmatrix} \\textbf{H} \\Delta q \\\\ g^T \\Delta q \\end{pmatrix} + \\frac{1}{2}\\begin{pmatrix} \\Delta{q^T} & 1\\end{pmatrix} \\begin{pmatrix} g \\\\ 0 \\end{pmatrix} }{\\begin{pmatrix} \\Delta q^T & 1 \\end{pmatrix} \\begin{pmatrix} \\textbf S \\Delta q \\\\ 0 \\end{pmatrix} + \\begin{pmatrix} \\Delta q^T & 1 \\end{pmatrix} \\begin{pmatrix} 0 \\\\ 1 \\end{pmatrix}}$$\n",
    "\n",
    "$$ = \\frac { \\frac{1}{2} \\Delta q^T \\textbf H \\Delta q + \\frac{1}{2} g^T \\Delta q + \\frac{1}{2} g^T \\Delta q} { \\Delta q^T\\textbf S \\Delta q + 1}$$"
   ]
  },
  {
   "cell_type": "markdown",
   "metadata": {
    "collapsed": true
   },
   "source": [
    "Making the stationary point assumption where  \n",
    "    $$\\frac{\\partial \\epsilon}{\\partial q } = 0 $$\n",
    "    \n",
    "$$\\frac{\\partial \\epsilon}{\\partial q} = \\frac {g + H\\Delta q}{1 + \\Delta q^T \\textbf S \\Delta q} - \\frac{ g \\Delta q^T + \\frac{1}{2} \\Delta q^T \\textbf H \\Delta q}{ 1 + \\textbf S \\Delta q^T \\Delta q} \\frac{ 2 \\textbf S \\Delta q}{1 + \\textbf S \\Delta q^T \\Delta q}$$\n",
    "or\n",
    "$$ \\frac{\\partial \\epsilon}{\\partial q} = \\frac {g + H\\Delta q}{1 + \\Delta q^T \\textbf S \\Delta q} - \\epsilon \\frac{ 2 \\textbf S \\Delta q}{1 + \\textbf S \\Delta q^T \\Delta q}$$\n",
    "Simplifying\n",
    "$$ \\frac{\\partial \\epsilon}{\\partial q} = 0 \\frac{ g + H\\Delta q - 2 \\epsilon \\textbf S \\Delta q}{1 + \\textbf S \\Delta q^T \\Delta q}$$\n",
    "\n",
    "$$ 0 =  g + H\\Delta q - 2 \\epsilon \\textbf S \\Delta q$$\n",
    "$$ g + H\\Delta q = 2 \\epsilon \\textbf S \\Delta q$$\n",
    "\n",
    "Setting $2\\epsilon = \\lambda$ we get an eigenvalue equation by expanding with $\\lambda = g^T \\Delta q$ (the proof of which will not be shown here) \n",
    "$$ \\begin{pmatrix} \\textbf H \\Delta q \\\\ g^T \\Delta q \\end{pmatrix} + \\begin{pmatrix} g \\\\ 0 \\end{pmatrix} = \\begin{pmatrix} \\lambda \\textbf S \\Delta q \\\\ \\lambda \\end{pmatrix}$$\n",
    "\n",
    "$$\\begin{pmatrix} \\textbf H & g \\\\ g^T & 0 \\end{pmatrix} \\begin{pmatrix} \\Delta q \\\\ 1 \\end{pmatrix} = \\lambda \\begin{pmatrix} {\\textbf{S} \\Delta q} \\\\ 1 \\end{pmatrix}$$\n",
    "Since S is taken the be the identity matrix, $\\lambda$ is shown to be an eigenvalue of the RFO matrix"
   ]
  },
  {
   "cell_type": "markdown",
   "metadata": {},
   "source": [
    "First, we need to create a molecular system"
   ]
  },
  {
   "cell_type": "code",
   "execution_count": null,
   "metadata": {
    "collapsed": true
   },
   "outputs": [],
   "source": [
    "import psi4\n",
    "from optking import optParams as op\n",
    "from optking import printTools\n",
    "printTools.printInit(printTools.cleanPrint)\n",
    "\n",
    "\n",
    "\n",
    "mol = psi4.molecule (\"\"\"\n",
    "  H     0.0000000000   0.9803530335  -0.8498671785\n",
    "  O     0.0000000000   0.6988545188   0.0536419016\n",
    "  O     0.0000000000  -0.6988545188   0.0536419016\n",
    "  H     0.0000000000  -0.9803530335  -0.8498671785\n",
    "\"\"\"\")"
   ]
  }
 ],
 "metadata": {
  "kernelspec": {
   "display_name": "Python 2",
   "language": "python",
   "name": "python2"
  },
  "language_info": {
   "codemirror_mode": {
    "name": "ipython",
    "version": 2
   },
   "file_extension": ".py",
   "mimetype": "text/x-python",
   "name": "python",
   "nbconvert_exporter": "python",
   "pygments_lexer": "ipython2",
   "version": "2.7.10"
  }
 },
 "nbformat": 4,
 "nbformat_minor": 2
}
