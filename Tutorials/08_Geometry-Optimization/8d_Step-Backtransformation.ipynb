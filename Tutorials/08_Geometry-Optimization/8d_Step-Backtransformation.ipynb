{
 "cells": [
  {
   "cell_type": "markdown",
   "metadata": {},
   "source": [
    "The conversion of displacements into cartesians nessecitates the use of an iterative procedure called the back transformation.\n",
    "As with the conversion of forces or gradients, implementation of the pseudo inverse leads to the similar looking result.\n",
    "$$ \\textbf G^{-1}_0 \\textbf {B}^T_0 u\\Delta q_0 = \\Delta x_0$$\n",
    "\n",
    "Here, the G matrix has dimensions of cartesian not internals as it is calculated with $\\textbf B^Tu \\textbf B$ where the u matrix has dimesnions of the number of internal coordinates\n",
    "\n",
    "The iterative back transformation becomes nessecary because the new cartesian geometry is not perfectly eqivalent to the new geometry we stepped to in internals\n",
    "$$x_0 + \\Delta x = x_1$$\n",
    "To converge on the correct cartesian geometry, we take the error in internals and convert again to cartesians\n",
    "\n",
    "Call the cartesian geometry converted back to internals as previously shown, $q_x$ and the geometry we calcualted $q_1$ then\n",
    "$$q_x - q_1 = q_\\epsilon$$\n",
    "We can then resolve our convesian equation having recalulated the nessecary matrices at the new geometry\n",
    "$$ \\textbf G^{-1}_n \\textbf {B}_n^T u\\Delta q_\\epsilon = \\Delta x_n$$"
   ]
  },
  {
   "cell_type": "code",
   "execution_count": null,
   "metadata": {
    "collapsed": true
   },
   "outputs": [],
   "source": []
  },
  {
   "cell_type": "markdown",
   "metadata": {},
   "source": [
    "To demonsrtrate the need for the back transformation, we'll take a step, in internal coordinates, of 0.2 bohr for the bond lengths and then convert it into cartesians, and back again into internals"
   ]
  },
  {
   "cell_type": "code",
   "execution_count": null,
   "metadata": {
    "collapsed": true
   },
   "outputs": [],
   "source": [
    "# A simple Psi4 input script to compute a Wilson B matrix\n",
    "# edited with jupyter\n",
    "# Created by: Rollin A. King\n",
    "# Date: 7/27/17\n",
    "# License: GPL v3.0\n",
    "\n",
    "import numpy as np\n",
    "np.set_printoptions(precision=5, linewidth=200, suppress=True)\n",
    "import psi4\n",
    "\n",
    "# Memory for Psi4 in GB\n",
    "psi4.set_memory('1 GB')\n",
    "psi4.core.set_output_file('output.dat',False)\n",
    "\n",
    "import optking\n",
    "# Memory for numpy in GB\n",
    "numpy_memory = 2\n",
    "\n",
    "mol = psi4.geometry(\"\"\"\n",
    "O\n",
    "H 1 1.1\n",
    "H 1 1.1 2 104\n",
    "symmetry c1\n",
    "\"\"\")\n",
    "\n",
    "# Set some options\n",
    "psi4.set_options({\"basis\": \"cc-pvdz\",\n",
    "                  \"scf_type\": \"pk\",\n",
    "                  \"e_convergence\": 1e-8})"
   ]
  },
  {
   "cell_type": "code",
   "execution_count": null,
   "metadata": {
    "collapsed": false
   },
   "outputs": [],
   "source": [
    "mol.update_geometry()\n",
    "xyz = np.array( mol.geometry() )\n",
    "print('Cartesian geometry')\n",
    "print(xyz)\n",
    "\n",
    "#from optking import printTools\n",
    "optking.printInit(psi4.core.print_out)\n",
    "\n",
    "# Create some internal coordinates for water.\n",
    "# Numbering starts with atom 0.\n",
    "from optking import stre,bend\n",
    "r1 = stre.STRE(0,1)\n",
    "r2 = stre.STRE(0,2)\n",
    "theta = bend.BEND(1,0,2)\n",
    "intcos = [r1,r2,theta]\n",
    "\n",
    "print(\"%15s%15s\" % ('Coordinate', 'Value'))\n",
    "for I in intcos:\n",
    "  print(\"%15s = %15.8f %15.8f\" % (I, I.q(xyz), I.qShow(xyz)))\n",
    "\n",
    "\n",
    "from optking import optParams as op\n",
    "userOptions = {'print' : 2}\n",
    "op.Params = op.OPT_PARAMS(userOptions)\n",
    "optking.printTools.print_opt(\"\\tParameters from optking.optimize\\n\")\n",
    "optking.printTools.print_opt( str(op.Params) )\n",
    "\n",
    "# displacements to be made in au\n",
    "dq = np.array( [0.0, 0.2, 0.0], float)\n",
    "\n",
    "# forces - only used for printing here\n",
    "fq = np.array( [0.0, 0.0, 0.0], float)\n",
    "\n",
    "from optking import displace\n",
    "displace.displace(intcos, xyz, dq, fq)\n",
    "\n",
    "print('Final Displaced Cartesian geometry')\n",
    "print(xyz)\n",
    "\n",
    "# Check result\n",
    "print(\"%15s%15s\" % ('Coordinate', 'Value'))\n",
    "for I in intcos:\n",
    "  print(\"%15s = %15.8f %15.8f\" % (I, I.q(xyz), I.qShow(xyz)))"
   ]
  },
  {
   "cell_type": "code",
   "execution_count": null,
   "metadata": {
    "collapsed": true
   },
   "outputs": [],
   "source": [
    "from optking import intcosMisc\n",
    "from optking import linearAlgebra\n",
    "dq0 = np.zeros(len(intcos), float)\n",
    "for i in range (4):\n",
    "    dq0[i] = 0.2\n",
    "\n",
    "#This is what we should be stepping to    \n",
    "qGeomWanted = np.add(qGeom, dq0)\n",
    "print(\"New internal geometry\")\n",
    "printTools.printArray(qGeomWanted)\n",
    "\n",
    "B0 = intcosMisc.Bmat(intcos, xyzGeom)\n",
    "\n",
    "G0 = np.dot(B0.T, B0) \n",
    "#the u identity matrix is omittted above due to the dimensions\n",
    "printTools.printMat(G0)    \n",
    "G0inv = linearAlgebra.symmMatInv(G0, True)\n",
    "u = np.identity(len(intcos))\n",
    "dx0 = np.dot(G0inv, np.dot(B0.T, np.dot(u, dq0)))\n",
    "\n",
    "print (\"Displacement in cartesians\")\n",
    "printTools.printArray(dx0)\n",
    "dx0mat = np.reshape(dx0, (5, 3))\n",
    "#Compare the cartesian geometries\n",
    "xyzGeom0 = np.add(dx0mat, xyzGeom)\n",
    "print (\"Old geometry\")\n",
    "print (xyzGeom)\n",
    "print (\"New geometry\")\n",
    "print(xyzGeom0)\n",
    "\n",
    "\n",
    "qGeom1 = np.zeros(len(intcos), float)\n",
    "for i in range (len(intcos)):\n",
    "    qGeom1[i] = (intcos[i].q(xyzGeom0))\n",
    "print (\"New geometry with error\")    \n",
    "print (qGeom1)\n",
    "dq1Prime = np.subtract(qGeom1, qGeom0) #This is the actual Dq we took\n",
    "print (\"Acutal step from cartesians\")\n",
    "print (dq1Prime)\n",
    "\n",
    "Dq1 = np.subtract(dq0, dq1Prime) #This is the error in Dq\n",
    "\n",
    "print (\"This is why we need to back transformation\")\n",
    "print (Dq1)"
   ]
  }
 ],
 "metadata": {
  "kernelspec": {
   "display_name": "Python 2",
   "language": "python",
   "name": "python2"
  },
  "language_info": {
   "codemirror_mode": {
    "name": "ipython",
    "version": 2
   },
   "file_extension": ".py",
   "mimetype": "text/x-python",
   "name": "python",
   "nbconvert_exporter": "python",
   "pygments_lexer": "ipython2",
   "version": "2.7.10"
  }
 },
 "nbformat": 4,
 "nbformat_minor": 1
}
