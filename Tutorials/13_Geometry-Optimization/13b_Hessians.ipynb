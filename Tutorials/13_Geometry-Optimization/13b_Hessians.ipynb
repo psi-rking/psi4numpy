{
 "cells": [
  {
   "cell_type": "markdown",
   "metadata": {},
   "source": [
    "# The Hessian in Optimizations\n",
    "### This tutorial covers the guessing, updating, and transformations of the Hessian (energy second derivative).\n",
    "\n",
    "Newton-Raphson and Newton-Raphson-like optimization methods require an energy second derivative (Hessian).  The starting Hessian in internal coordinates is either guessed, or else produced by transformation of a Cartesian Hessian computed at some level of theory.  The simple \"guessing\" formulas for stretch, bend, and torsion force constants generally are sufficient.\n",
    "\n",
    "Each internal coordinate has a method used to guess its own force constant using a variety of published methods, here we use the default 'SIMPLE' method.\n",
    "\n",
    "Lets see what a \"simple\" guess Hessian for water looks like. "
   ]
  },
  {
   "cell_type": "code",
   "execution_count": 1,
   "metadata": {
    "collapsed": false
   },
   "outputs": [
    {
     "name": "stdout",
     "output_type": "stream",
     "text": [
      " R(1,2)\n",
      " R(1,3)\n",
      " B(2,1,3)\n",
      "Simple Guess Hessian for Water (in au)\n",
      "[[ 0.5  0.   0. ]\n",
      " [ 0.   0.5  0. ]\n",
      " [ 0.   0.   0.2]]\n"
     ]
    }
   ],
   "source": [
    "import psi4\n",
    "from psi4 import *\n",
    "from psi4.core import *\n",
    "import numpy as np\n",
    "\n",
    "mol = psi4.geometry(\"\"\"\n",
    "O\n",
    "H 1 0.9\n",
    "H 1 0.9 2 104\n",
    "\"\"\")\n",
    "\n",
    "# Set some options\n",
    "psi4.set_options({\"basis\": \"cc-pvdz\"})\n",
    "mol.update_geometry()\n",
    " \n",
    "from optking import stre, bend, tors\n",
    "intcos = [stre.STRE(0,1), stre.STRE(0,2), bend.BEND(1,0,2)]\n",
    "for intco in intcos: \n",
    "    print (intco) \n",
    "Natom = 3\n",
    "Nintco = len(intcos)\n",
    "Z = [int(mol.Z(i)) for i in range(Natom)]\n",
    "xyz = np.array(mol.geometry())\n",
    "H = np.zeros((Nintco,Nintco), float)\n",
    "for i,intco in enumerate(intcos):\n",
    "    H[i,i] = intco.diagonalHessianGuess(xyz, Z, guessType=\"SIMPLE\")\n",
    "print \"Simple Guess Hessian for Water (in au)\"\n",
    "print (H)"
   ]
  },
  {
   "cell_type": "markdown",
   "metadata": {},
   "source": [
    "You can see that the very simple rule is simply 0.5au for bond stretches and 0.2au for angles (and 0.1au for dihedrals).  For ordinary molecular configurations, this Hessian works nearly as well one determined by a second derivative computation.  There are commonly used geometry-dependent formulas the have better asymptotic behavior.  Here are the equivalent guesses using the formulae from Schlegel [Schlegel, _Theor. Chim. Acta_, 66, 333 (1984) and from Fischer [Fischer and Almlof, _J. Phys. Chem._, 96, 9770 (1992)]."
   ]
  },
  {
   "cell_type": "code",
   "execution_count": 2,
   "metadata": {
    "collapsed": false
   },
   "outputs": [
    {
     "name": "stdout",
     "output_type": "stream",
     "text": [
      "Schlegel Guess Hessian for Water (in au)\n",
      "[[ 0.70672641  0.          0.        ]\n",
      " [ 0.          0.70672641  0.        ]\n",
      " [ 0.          0.          0.16      ]]\n",
      "Fischer Guess Hessian for Water (in au)\n",
      "[[ 0.46569723  0.          0.        ]\n",
      " [ 0.          0.46569723  0.        ]\n",
      " [ 0.          0.          0.29459425]]\n"
     ]
    }
   ],
   "source": [
    "reload(stre)\n",
    "for i,intco in enumerate(intcos):\n",
    "    H[i,i] = intco.diagonalHessianGuess(xyz, Z, guessType=\"SCHLEGEL\")\n",
    "print \"Schlegel Guess Hessian for Water (in au)\"\n",
    "print (H)\n",
    "for i,intco in enumerate(intcos):\n",
    "    H[i,i] = intco.diagonalHessianGuess(xyz, Z, guessType=\"FISCHER\")\n",
    "print \"Fischer Guess Hessian for Water (in au)\"\n",
    "print (H)"
   ]
  },
  {
   "cell_type": "markdown",
   "metadata": {
    "collapsed": true,
    "scrolled": false
   },
   "source": [
    "Psi4 and other quantum chemistry programs can compute Hessians using either analytic second derivatives or finite differences.  Here, we assume the program has provided the Hessian in Cartesian coordinates.  We need to transform this Hessian into internal coordinates for use in our Newton-Raphson like algorithm.  \n",
    "\n",
    "Starting with the definition of the hessian\n",
    "$$ \\textbf H_{ab} = \\frac{\\partial ^2 E}{\\partial x_a\\partial x_b}$$\n",
    "\n",
    "substituting in the partial deriviative of internal coordinates\n",
    "$$ \\textbf H_{ab} = \\frac{\\partial}{\\partial x_a}\\Big( \\frac{\\partial E}{\\partial q_i}\n",
    "\\frac{\\partial q_i}{\\partial x_b}\\Big )$$\n",
    "\n",
    "$$ = \\frac{\\partial ^2 E}{\\partial x_a \\partial q_i} \\frac{\\partial q_i}{\\partial x_b} + \\frac{\\partial E}{\\partial q_i}\\frac{\\partial ^2 q_i}{\\partial x_a \\partial x_b}$$\n",
    "\n",
    "$$ \\frac{\\partial q_j}{\\partial x_a}\\frac{\\partial ^2 E}{\\partial q_j \\partial q_i} \\frac{ \\partial q_i}{\\partial x_b} + \\frac{\\partial E }{\\partial q_i} \\frac {\\partial ^2 q_i}{\\partial x_a \\partial x_b}$$\n",
    "\n",
    "With the introduction of the derivative B-matrix ($\\textbf B'$), we can write the equation in matrix form for the transformation of the internal coordinate Hessian into Cartesian coordinates.\n",
    "\n",
    "$$ \\textbf{H}_{\\rm{cart}} = \\textbf{B}^T \\textbf{H}_{\\rm{int}} \\textbf{B} + g_i \\textbf{B}^i$$\n",
    "\n",
    "At stationary points where the gradient is zero, the second term vanishes. The contribution of this term is generally small and may not be worth the expense of computing when generating Hessians for stationary point searches.\n",
    "\n",
    "We still need to derive the formula for the inverse transformation.  See the first tutorial for the introduction of the $\\mathbf {A}$ matrix, the generalized left-inverse of $ \\mathbf{B}^T $, where \n",
    "\n",
    "$$ \\textbf A = (\\textbf{B} \\textbf{u} \\textbf {B}^T)^{-1} \\textbf {B} \\textbf{u}$$\n",
    "\n",
    "$$ \\textbf {A}^T \\textbf{H}_{\\rm{cart}} \\textbf {A} = \\textbf{A}^T \\textbf{B}^T \\textbf{H}_{\\rm{int}} \\textbf{BA} + \\textbf {A}^T g_i \\textbf{B}^i \\textbf A$$\n",
    "\n",
    "here\n",
    "\n",
    "$$ \\textbf{H}_{\\rm{int}} = \\textbf A^T \\textbf {H}_{\\mathrm{cart}} \\textbf A - \\textbf A^T  g_i \\textbf {B}^i \\textbf A $$\n",
    "\n",
    "We can factor the terms to get the following:\n",
    "\n",
    "$$ \\textbf{H}_{\\rm{int}} = \\textbf A^T ( \\textbf {H}_{\\mathrm{cart}} - g_i \\textbf {B}^i ) \\textbf A $$\n",
    "\n",
    "Now lets convert the Psi4 Cartesian Hessian into internals!"
   ]
  },
  {
   "cell_type": "code",
   "execution_count": 3,
   "metadata": {
    "collapsed": false
   },
   "outputs": [],
   "source": [
    "# Function to return a generalized inverse\n",
    "import math\n",
    "def symmMatInv(A):\n",
    "    dim = A.shape[0]\n",
    "    det = 1.0\n",
    "\n",
    "    evals, evects = np.linalg.eigh(A)\n",
    "    evects = evects.T\n",
    "    for i in range(dim):\n",
    "        det *= evals[i]\n",
    "\n",
    "    diagInv = np.zeros( (dim,dim), float)\n",
    "    for i in range(dim):\n",
    "        if math.fabs(evals[i]) > 1.0e-10:\n",
    "            diagInv[i,i] = 1.0/evals[i]\n",
    "            \n",
    "    # A^-1 = P^t D^-1 P\n",
    "    tmpMat = np.dot(diagInv, evects)\n",
    "    AInv = np.dot(evects.T, tmpMat)\n",
    "    return AInv\n",
    "\n",
    "Ncart = 3*Natom\n",
    "\n",
    "# Compute B and A^T matrices\n",
    "from optking import intcosMisc\n",
    "B = intcosMisc.Bmat(intcos, xyz)\n",
    "G = np.dot(B, B.T)\n",
    "Ginv = symmMatInv(G)\n",
    "Atranspose = np.dot(Ginv, B)"
   ]
  },
  {
   "cell_type": "code",
   "execution_count": 4,
   "metadata": {
    "collapsed": false
   },
   "outputs": [
    {
     "name": "stdout",
     "output_type": "stream",
     "text": [
      "Hessian in internal coordinates transformed from Cartesians\n",
      "[[ 0.85052538 -0.00340936  0.03443988]\n",
      " [-0.00340936  0.85052538  0.03443988]\n",
      " [ 0.03443988  0.03443988  0.18987662]]\n"
     ]
    }
   ],
   "source": [
    "# Compute gradient and transform into internal coordinates.\n",
    "g_x = np.reshape( np.array( psi4.gradient('scf')), (3*Natom))\n",
    "g_q = np.dot(Atranspose, g_x)\n",
    "\n",
    "# Compute cartesian Hessian\n",
    "H_cart = np.array( psi4.hessian('scf') )\n",
    "\n",
    "# A^t Hxy A\n",
    "# A^t (Hxy - Kxy) A;    K_xy = sum_q ( grad_q[I] d^2(q_I)/(dx dy) )\n",
    "H_int = np.zeros( (Nintco,Nintco), float)\n",
    "dq2dx2 = np.zeros((Ncart,Ncart), float)\n",
    "\n",
    "for I, q in enumerate(intcos):\n",
    "    dq2dx2[:] = 0\n",
    "    q.Dq2Dx2(xyz, dq2dx2)   # d^2(q_I)/ dx_i dx_j\n",
    "\n",
    "    for a in range(Ncart):\n",
    "        for b in range(Ncart):\n",
    "            H_cart[a,b] -= g_q[I] * dq2dx2[a,b]\n",
    "\n",
    "H_int = np.dot(Atranspose, np.dot(H_cart, Atranspose.T))\n",
    "print \"Hessian in internal coordinates transformed from Cartesians\"\n",
    "print (H_int)"
   ]
  },
  {
   "cell_type": "markdown",
   "metadata": {},
   "source": [
    "During the course of the optimization, the Hessian may be re-calculated at each step (or every fixed number of steps).  However, the computation of the Hessian is computationally costly, even when possible.  In most cases, updating the Hessian with first derivative information works nearly as well as recomputing the Hessian and requires no additional computation."
   ]
  }
 ],
 "metadata": {
  "kernelspec": {
   "display_name": "Python 2",
   "language": "python",
   "name": "python2"
  },
  "language_info": {
   "codemirror_mode": {
    "name": "ipython",
    "version": 2
   },
   "file_extension": ".py",
   "mimetype": "text/x-python",
   "name": "python",
   "nbconvert_exporter": "python",
   "pygments_lexer": "ipython2",
   "version": "2.7.10"
  }
 },
 "nbformat": 4,
 "nbformat_minor": 2
}
