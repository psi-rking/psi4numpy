{
 "cells": [
  {
   "cell_type": "markdown",
   "metadata": {},
   "source": [
    "## The Step Back-transformation\n",
    "An optimization algorithm carried out in internal coordinates (see, e.g., the RFO tutorial) will generate a displacement step to be taken in internal coordinates.  The conversion of the step into Cartesian coordinates is here called the \"back-transformation\" (\"back\", since the original gradient was computed in Cartesians)."
   ]
  },
  {
   "cell_type": "markdown",
   "metadata": {},
   "source": [
    "As shown in the tutorial on coordinates and the B-matrix,\n",
    "\n",
    "$$\\textbf {B} \\Delta x = \\Delta q $$\n",
    "\n",
    "and the __A__ matrix defined by\n",
    "\n",
    "$$ \\textbf A \\equiv (\\textbf{B} \\textbf{u} \\textbf {B}^T)^{-1} \\textbf {B} \\textbf{u}$$\n",
    "\n",
    "was shown to be the left inverse of $\\textbf B^T$ where __u__ is an arbitrary symmetric matrix.  Attention must be paid to the non-square nature of __A__ and __B__.  Here, we have\n",
    "\n",
    "\\begin{align}\n",
    "\\textbf B \\Delta x &= \\Delta q \\\\\n",
    "\\\\\n",
    "\\textbf B \\Delta x &= \\big( \\textbf{BuB}^T \\big) \\big( \\textbf{BuB}^T\\big)^{-1} \\Delta q \\\\\n",
    "\\\\\n",
    "\\textbf B \\Delta x &= \\textbf B \\big[ \\textbf{uB}^T \\big( \\textbf{BuB}^T\\big)^{-1}\\big] \\Delta q \\\\\n",
    "\\\\\n",
    "\\Delta x &= \\textbf{uB}^T \\big( \\textbf{BuB}^T\\big)^{-1} \\Delta q \\\\\n",
    "\\end{align}\n",
    "\n",
    "The __u__ matrix may be chosen to be the unit matrix which gives\n",
    "\n",
    "$$\\Delta x = \\textbf B^T (\\textbf B \\textbf B^T)^{-1} \\Delta q$$\n",
    "\n",
    "where redundant coordinates can be accommodated simply by using the generalized inverse.  It is common to introduce $ \\textbf{G} = \\textbf B \\textbf B^T $ and write the expression as\n",
    "\n",
    "$$ \\Delta x = \\textbf{B}^T \\textbf{G}^{-1} \\Delta q$$"
   ]
  },
  {
   "cell_type": "markdown",
   "metadata": {},
   "source": [
    "Note the __G__ matrix is a square matrix of dimension number of internals by number of internals.  This equation is exact only for infinitesimal displacements, because the B-matrix elements depend up on the molecular geometry (i.e., the Cartesian coordinates).  Thus, the back-transformation is carried out iteratively.\n",
    "\n",
    "To converge on a Cartesian geometry with the desired internal coordinate values, we repeatedly compute the difference between the current internal coordinate values and the desired ones (generating a $\\Delta q$) and using the equation above to compute a new Cartesian geometry."
   ]
  },
  {
   "cell_type": "markdown",
   "metadata": {},
   "source": [
    "### Illustration of back-transformation\n",
    "The back-demonstration will now be demonstrated by taking a 0.2 bohr step in the bond lengths of a water molecule."
   ]
  },
  {
   "cell_type": "code",
   "execution_count": 1,
   "metadata": {
    "collapsed": false
   },
   "outputs": [
    {
     "name": "stdout",
     "output_type": "stream",
     "text": [
      "     Coordinate          Value\n",
      "         R(1,2) =      1.70000000      0.89960125\n",
      "         R(1,3) =      1.70000000      0.89960125\n",
      "       B(2,1,3) =      1.81514242    104.00000000\n"
     ]
    }
   ],
   "source": [
    "# Setup the water molecule and coordinates.\n",
    "import psi4\n",
    "from psi4 import *\n",
    "from psi4.core import *\n",
    "import numpy as np\n",
    "\n",
    "mol = psi4.geometry(\"\"\"\n",
    "O\n",
    "H 1 1.7\n",
    "H 1 1.7 2 104\n",
    "unit au\n",
    "\"\"\")\n",
    "# We'll use cc-pVDZ RHF.\n",
    "psi4.set_options({\"basis\": \"cc-pvdz\"})\n",
    "mol.update_geometry()\n",
    "xyz_0 = np.array( mol.geometry() )\n",
    "\n",
    "# Generate the internal coordinates manually.  Show their values.\n",
    "import os\n",
    "sys.path.append('os.getcwd()')\n",
    "from opt_helper import stre, bend, intcosMisc, linearAlgebra\n",
    "\n",
    "intcos = [stre.STRE(0,1), stre.STRE(0,2), bend.BEND(1,0,2)]\n",
    "print(\"%15s%15s\" % ('Coordinate', 'Value'))\n",
    "for I in intcos:\n",
    "  print(\"%15s = %15.8f %15.8f\" % (I, I.q(xyz_0), I.qShow(xyz_0)))\n",
    "\n",
    "# Handy variables for later.\n",
    "Natom = mol.natom()\n",
    "Nintco = len(intcos)\n",
    "Ncart = 3*Natom"
   ]
  },
  {
   "cell_type": "code",
   "execution_count": 11,
   "metadata": {
    "collapsed": false
   },
   "outputs": [
    {
     "name": "stdout",
     "output_type": "stream",
     "text": [
      "Displacement in Cartesians\n",
      "[  0.00000000e+00  -8.49548251e-17  -4.31202805e-02   0.00000000e+00\n",
      "  -2.03269760e-01   2.15601403e-02   0.00000000e+00   2.03269760e-01\n",
      "   2.15601403e-02]\n",
      "New geometry in cartesians\n",
      "[[  0.00000000e+00  -8.49548251e-17  -1.60253130e-01]\n",
      " [  0.00000000e+00  -1.54288804e+00   9.51051799e-01]\n",
      " [  0.00000000e+00   1.54288804e+00   9.51051799e-01]]\n",
      "\n",
      "     Coordinate          Value\n",
      "         R(1,2) =      1.90144738      1.00620262\n",
      "         R(1,3) =      1.90144738      1.00620262\n",
      "       B(2,1,3) =      1.89318331    108.47141344\n"
     ]
    }
   ],
   "source": [
    "# Create an internal coordinate displacement of +0.2au in bond lengths,\n",
    "# and +5 degrees in the bond angle.\n",
    "dq = np.array( [0.2, 0.2, 5.0/180*np.pi], float)\n",
    "\n",
    "B = intcosMisc.Bmat(intcos, xyz_0)\n",
    "G = np.dot(B, B.T)\n",
    "G_inv = linearAlgebra.symmMatInv(G, redundant=True)\n",
    "\n",
    "# Dx = B^T G^(-1) Dq\n",
    "dx = np.dot(B.T, np.dot(G_inv, dq))\n",
    "print(\"Displacement in Cartesians\")\n",
    "print(dx)\n",
    "\n",
    "# Add Dx to original geometry.\n",
    "xyz_1 = np.add(np.reshape(dx, (3, 3)), xyz_0)\n",
    "print(\"New geometry in cartesians\")\n",
    "print(xyz_1)\n",
    "\n",
    "# Compute internal coordinate values of new geometry.\n",
    "print(\"\\n%15s%15s\" % ('Coordinate', 'Value'))\n",
    "for I in intcos:\n",
    "  print(\"%15s = %15.8f %15.8f\" % (I, I.q(xyz_1), I.qShow(xyz_1)))"
   ]
  },
  {
   "cell_type": "markdown",
   "metadata": {},
   "source": [
    "You see that the desired internal coordinate value is not _exactly_ achieved.  You can play with the desired displacement and observe more diverse behavior.  For water, if you displace only the bond lengths, then the result will be exact, because if the bond angle is fixed then the displacements (s-vectors on each atom) are constant wrt to the bond lengths.  On the other hand, the displacement directions for the bend depend upon the value of the angle.  So if you displace only along a bend, the result will not be exact.  In general, the result is reasonable for small displacements."
   ]
  },
  {
   "cell_type": "markdown",
   "metadata": {},
   "source": [
    "### Illustration of iterative back-transformation\n",
    "Finally, we demonstrate how convergence to the desired internal coordinate displacement can be achieved by an interative process."
   ]
  },
  {
   "cell_type": "code",
   "execution_count": 13,
   "metadata": {
    "collapsed": false,
    "scrolled": false
   },
   "outputs": [
    {
     "name": "stdout",
     "output_type": "stream",
     "text": [
      "Iteration 1\n",
      "\tRMS(dq) = 1.70895e-01\n",
      "\tRMS(dx) = 9.74259e-02\n",
      "Iteration 2\n",
      "\tRMS(dq) = 5.45592e-03\n",
      "\tRMS(dx) = 2.85784e-03\n",
      "Iteration 3\n",
      "\tRMS(dq) = 1.70114e-05\n",
      "\tRMS(dx) = 9.73574e-06\n",
      "Iteration 4\n",
      "\tRMS(dq) = 4.38492e-11\n",
      "\tRMS(dx) = 2.29172e-11\n",
      "\n",
      "Final converged geometry.\n",
      "[[  0.00000000e+00  -1.79838137e-17  -1.54940254e-01]\n",
      " [  0.00000000e+00  -1.54681948e+00   9.48395361e-01]\n",
      " [  0.00000000e+00   1.54681948e+00   9.48395361e-01]]\n",
      "\n",
      "     Coordinate          Value\n",
      "         R(1,2) =      1.90000000      1.00543670\n",
      "         R(1,3) =      1.90000000      1.00543670\n",
      "       B(2,1,3) =      1.90240888    109.00000000\n"
     ]
    }
   ],
   "source": [
    "# Create array of target internal coordinate values.\n",
    "dq_target = np.array( [0.2, 0.2, 5.0/180*np.pi], float)\n",
    "q_target = np.zeros( (len(intcos)), float)\n",
    "for i, intco in enumerate(intcos):\n",
    "    q_target[i] = intco.q(xyz_0) + dq_target[i]\n",
    "    \n",
    "xyz = xyz_0.copy()\n",
    "rms_dq = 1\n",
    "niter = 1\n",
    "\n",
    "while rms_dq > 1e-10:\n",
    "    print(\"Iteration %d\" % niter)\n",
    "    dq = dq_target.copy()\n",
    "\n",
    "    # Compute distance from target in internal coordinates.\n",
    "    for i, intco in enumerate(intcos):\n",
    "        dq[i] = q_target[i] - intco.q(xyz)\n",
    "    rms_dq = np.sqrt(np.mean(dq**2))\n",
    "    print(\"\\tRMS(dq) = %10.5e\" % rms_dq)\n",
    "    \n",
    "\n",
    "    # Dx = B^T G^(-1) Dq\n",
    "    B = intcosMisc.Bmat(intcos, xyz)\n",
    "    G = np.dot(B, B.T)\n",
    "    G_inv = linearAlgebra.symmMatInv(G, redundant=True)\n",
    "    dx = np.dot(B.T, np.dot(G_inv, dq))\n",
    "    print(\"\\tRMS(dx) = %10.5e\" % np.sqrt(np.mean(dx**2)))\n",
    "\n",
    "    # Compute new Cartesian geometry.\n",
    "    xyz[:] += np.reshape(dx, (3,3))\n",
    "    niter += 1\n",
    "\n",
    "print(\"\\nFinal converged geometry.\")\n",
    "print(xyz)\n",
    "\n",
    "# Compute internal coordinate values of new geometry.\n",
    "print(\"\\n%15s%15s\" % ('Coordinate', 'Value'))\n",
    "for I in intcos:\n",
    "  print(\"%15s = %15.8f %15.8f\" % (I, I.q(xyz), I.qShow(xyz)))"
   ]
  },
  {
   "cell_type": "markdown",
   "metadata": {},
   "source": [
    "Due to the non-orthogonal nature of the coordinates, the iterations may not always converge.  In this case, common tactics include using the Cartesian geometry generated by the first back-transformation step, or using the Cartesian geometry that was closest to the desired internal coordinates.  Hopefully, as a geometry optimization proceeds the forces, and therefore the displacements, get smaller and convergence is easier to achieve.\n",
    "\n",
    "A serious complication in procedures such as this one are discontinuities in the values of the internal coordinates.  In some way, the internal coordinate values must be canonicalized so that, e.g., an increase in a torsion from 179 degrees to -178 degrees is interpreted as an increase of 3 degrees.  Similar problems present for bond angles near 180 degrees.  (The consistent computation of these changes in values and changes in forces is also critical in any Hessian update schemes that use them.)\n"
   ]
  }
 ],
 "metadata": {
  "kernelspec": {
   "display_name": "Python 2",
   "language": "python",
   "name": "python2"
  },
  "language_info": {
   "codemirror_mode": {
    "name": "ipython",
    "version": 2
   },
   "file_extension": ".py",
   "mimetype": "text/x-python",
   "name": "python",
   "nbconvert_exporter": "python",
   "pygments_lexer": "ipython2",
   "version": "2.7.10"
  }
 },
 "nbformat": 4,
 "nbformat_minor": 1
}
