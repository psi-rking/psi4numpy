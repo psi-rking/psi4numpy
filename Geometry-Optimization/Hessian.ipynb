{
 "cells": [
  {
   "cell_type": "markdown",
   "metadata": {},
   "source": [
    "# Hessian Matrix\n",
    "### This tutorial covers the common uses for the hessian in geometry optimizations: hessian transformations, hessian guessing, and hessian updating\n",
    "\n",
    "We will start with how to get a hessian matrix from Psi4 to be used in your optimizations. Depending on the optimization, you can calulate the hessian analytically either at the first point or at every point in the optimization, or guess and update the hessian at each point. It is also possible to caluclate the Hessian every other step or every few steps while guessing and updating in between.\n",
    "We will start with calculating the Hessian for water. "
   ]
  },
  {
   "cell_type": "code",
   "execution_count": 2,
   "metadata": {},
   "outputs": [
    {
     "name": "stdout",
     "output_type": "stream",
     "text": [
      "3N * 3N Hessian Matrix\n",
      "   0.097366   0.000000  -0.000000  -0.048683  -0.000000   0.000000  -0.048683\n",
      "   0.000000   0.000000\n",
      "   0.000000   0.290842   0.000000   0.000000  -0.145421   0.075580  -0.000000\n",
      "  -0.145421  -0.075580\n",
      "  -0.000000   0.000000   0.279184   0.000000   0.030890  -0.139592   0.000000\n",
      "  -0.030890  -0.139592\n",
      "  -0.048683   0.000000   0.000000   0.051456   0.000000  -0.000000  -0.002773\n",
      "  -0.000000   0.000000\n",
      "  -0.000000  -0.145421   0.030890   0.000000   0.163592  -0.053235   0.000000\n",
      "  -0.018171   0.022345\n",
      "   0.000000   0.075580  -0.139592  -0.000000  -0.053235   0.126435   0.000000\n",
      "  -0.022345   0.013157\n",
      "  -0.048683  -0.000000   0.000000  -0.002773   0.000000   0.000000   0.051456\n",
      "  -0.000000  -0.000000\n",
      "   0.000000  -0.145421  -0.030890  -0.000000  -0.018171  -0.022345  -0.000000\n",
      "   0.163592   0.053235\n",
      "   0.000000  -0.075580  -0.139592   0.000000   0.022345   0.013157  -0.000000\n",
      "   0.053235   0.126435\n"
     ]
    }
   ],
   "source": [
    "import psi4\n",
    "import numpy as np\n",
    "from optking import printTools\n",
    "printTools.printInit(printTools.cleanPrint)\n",
    "from optking import molsys\n",
    "from optking import intcosMisc\n",
    "from optking import addIntcos\n",
    "from optking import optParams as op\n",
    "mol = psi4.geometry(\"\"\"\n",
    "O\n",
    "H 1 1.1\n",
    "H 1 1.1 2 104\n",
    "symmetry c1\n",
    "\"\"\")\n",
    "\n",
    "# Set some options\n",
    "psi4.set_options({\"basis\": \"cc-pvdz\",\n",
    "                  \"scf_type\": \"pk\",\n",
    "                  \"e_convergence\": 1e-8})\n",
    "\n",
    "H = psi4.driver.hessian('scf')\n",
    "H = np.array(H)\n",
    "printTools.print_opt(\"3N * 3N Hessian Matrix\\n\")\n",
    "printTools.printMat(H)"
   ]
  },
  {
   "cell_type": "markdown",
   "metadata": {},
   "source": [
    "In order to guess the Hessian, we need to create the internal coordiantes for the molecules and the molecular system. Each internal coordinate has a method then to guess its own force constant using a variety of published methods, here we use the default 'SIMPLE' method. This next cell will take some time to run because of the work required to get the keyowrds from psi4"
   ]
  },
  {
   "cell_type": "code",
   "execution_count": 3,
   "metadata": {
    "scrolled": false
   },
   "outputs": [
    {
     "name": "stdout",
     "output_type": "stream",
     "text": [
      " R(1,2)\n",
      " R(1,3)\n",
      " B(2,1,3)\n",
      "\n",
      "\tGenerating molecular system for optimization from PSI4.\n",
      "\t1 Fragments in PSI4 molecule object.\n",
      "\tCreating fragment 1 with 3 atoms\n",
      "\n",
      "Force constants for each internal coordinate\n",
      "[0.5, 0.5, 0.2]\n"
     ]
    }
   ],
   "source": [
    "mol.update_geometry()\n",
    "xyz = np.array(mol.geometry())\n",
    " \n",
    "from optking import stre, bend, tors\n",
    "\n",
    "s1 = stre.STRE(0,1)\n",
    "s2 = stre.STRE(0,2)\n",
    "theta = bend.BEND(1,0,2)\n",
    "\n",
    "intcos = (s1, s2, theta)\n",
    "for intco in intcos: \n",
    "    print (intco)\n",
    "    \n",
    "#This creates a moecualr system which can be one or more molecules\n",
    "\n",
    "Molsys = molsys.MOLSYS.fromPsi4Molecule(mol)\n",
    "\n",
    "#This gives optking the keywords and options it needs from Psi4\n",
    "userOptions = psi4.driver.p4util.prepare_options_for_modules()\n",
    "op.Params = op.OPT_PARAMS(userOptions)\n",
    "\n",
    "#grabs the molecular system's list of atomic numbers for its atoms\n",
    "Z = Molsys.Z\n",
    "connectivity = addIntcos.connectivityFromDistances(xyz, Z)\n",
    "\n",
    "hessianValues = [] \n",
    "for intco in intcos:\n",
    "    hessianValues.append(intco.diagonalHessianGuess(xyz, Z, connectivity))\n",
    "\n",
    "print(\"\\nForce constants for each internal coordinate\")    \n",
    "print(hessianValues)"
   ]
  },
  {
   "cell_type": "markdown",
   "metadata": {
    "collapsed": true
   },
   "source": [
    "Using these values we can create our hessian"
   ]
  },
  {
   "cell_type": "code",
   "execution_count": 7,
   "metadata": {},
   "outputs": [
    {
     "name": "stdout",
     "output_type": "stream",
     "text": [
      "[[ 0.5  0.   0. ]\n",
      " [ 0.   0.5  0. ]\n",
      " [ 0.   0.   0.2]]\n"
     ]
    }
   ],
   "source": [
    "guessHessian = np.zeros((3, 3), float)\n",
    "for i in range (3):\n",
    "    guessHessian[i][i] = hessianValues[i]\n",
    "print (guessHessian)"
   ]
  },
  {
   "cell_type": "markdown",
   "metadata": {
    "collapsed": true,
    "scrolled": false
   },
   "source": [
    "As previously seen, Psi4 calculates the hessian in cartesians; however, optking guesses and updates the Hessian in internals. TO show how to convert the hessian between coordinates, let's start at the definition of the hessian.\n",
    "$$ \\textbf H = \\frac{\\partial ^2 E}{\\partial x_i\\partial x_j}$$\n",
    "substituting in the partial deriviative of internal coordinates\n",
    "$$ \\textbf H = \\frac{\\partial}{\\partial x_i}\\Big( \\frac{\\partial E}{\\partial q} \\frac{\\partial q}{\\partial x_j}\\Big )$$\n",
    "$$ = \\frac{\\partial ^2 E}{\\partial x_i \\partial q} \\frac{\\partial q}{\\partial x_j} + \\frac{\\partial E}{\\partial q}\\frac{\\partial ^2 q}{\\partial x_i \\partial x_j}$$\n",
    "Adding the partial derivative of internals to the first term\n",
    "$$ \\frac{\\partial ^2 E}{\\partial q \\partial q} \\frac{ \\partial q \\partial q}{\\partial x_i \\partial x_j} + \\frac{\\partial E }{\\partial q} \\frac {\\partial ^2 q}{\\partial x_i \\partial x_j}$$\n",
    "This can now be reduced to matrix form, rearranging to match the dimensions of the matrices.\n",
    "$$ \\textbf H = \\textbf B^T \\textbf {H B} + g \\textbf B_{ij}$$\n",
    "At stationary points, the second term can be dropped allowing for the calculation of the second derivative B matrix to be skipped\n",
    "\n",
    "In order to conver the Hessian into internals, which is more commonly used in calculations, we use the generalized inverse of $\\textbf B^T$, the A matrix $\\big ( \\textbf B^T u \\textbf B \\big) ^{-1} \\textbf B u$\n",
    "\n",
    "$$\\textbf A^T \\textbf H_x \\textbf A = \\textbf A^T  \\textbf B^T \\textbf H_q \\textbf {BA} + \\textbf A^Tg \\textbf B_{ij} \\textbf A$$\n",
    "\n",
    "$$\\textbf A^T \\textbf H_x \\textbf A - \\textbf A^T g \\textbf B_{ij} \\textbf A = \\textbf H$$\n",
    "\n",
    "Now lets convert the Psi4 hessian into internals"
   ]
  },
  {
   "cell_type": "code",
   "execution_count": 8,
   "metadata": {},
   "outputs": [
    {
     "ename": "TypeError",
     "evalue": "'NoneType' object is not callable",
     "output_type": "error",
     "traceback": [
      "\u001b[0;31m---------------------------------------------------------------------------\u001b[0m",
      "\u001b[0;31mTypeError\u001b[0m                                 Traceback (most recent call last)",
      "\u001b[0;32m<ipython-input-8-a5d301891465>\u001b[0m in \u001b[0;36m<module>\u001b[0;34m()\u001b[0m\n\u001b[1;32m      1\u001b[0m \u001b[0mmasses\u001b[0m \u001b[0;34m=\u001b[0m \u001b[0mMolsys\u001b[0m\u001b[0;34m.\u001b[0m\u001b[0mmasses\u001b[0m\u001b[0;34m\u001b[0m\u001b[0m\n\u001b[0;32m----> 2\u001b[0;31m \u001b[0mG\u001b[0m \u001b[0;34m=\u001b[0m \u001b[0mintcosMisc\u001b[0m\u001b[0;34m.\u001b[0m\u001b[0mGmat\u001b[0m\u001b[0;34m(\u001b[0m\u001b[0mintcos\u001b[0m\u001b[0;34m,\u001b[0m \u001b[0mxyz\u001b[0m\u001b[0;34m,\u001b[0m \u001b[0mmasses\u001b[0m\u001b[0;34m)\u001b[0m\u001b[0;34m\u001b[0m\u001b[0m\n\u001b[0m\u001b[1;32m      3\u001b[0m \u001b[0mGinv\u001b[0m \u001b[0;34m=\u001b[0m \u001b[0msymmMatInv\u001b[0m\u001b[0;34m(\u001b[0m\u001b[0mG\u001b[0m\u001b[0;34m)\u001b[0m\u001b[0;34m\u001b[0m\u001b[0m\n\u001b[1;32m      4\u001b[0m \u001b[0mB\u001b[0m \u001b[0;34m=\u001b[0m \u001b[0mintcosMisc\u001b[0m\u001b[0;34m.\u001b[0m\u001b[0mBmat\u001b[0m\u001b[0;34m(\u001b[0m\u001b[0mintcos\u001b[0m\u001b[0;34m,\u001b[0m \u001b[0mxyz\u001b[0m\u001b[0;34m,\u001b[0m \u001b[0mmasses\u001b[0m\u001b[0;34m)\u001b[0m\u001b[0;34m\u001b[0m\u001b[0m\n\u001b[1;32m      5\u001b[0m \u001b[0mAtranspose\u001b[0m \u001b[0;34m=\u001b[0m \u001b[0mnp\u001b[0m\u001b[0;34m.\u001b[0m\u001b[0mdot\u001b[0m\u001b[0;34m(\u001b[0m\u001b[0mGinv\u001b[0m\u001b[0;34m,\u001b[0m \u001b[0mB\u001b[0m\u001b[0;34m)\u001b[0m\u001b[0;34m\u001b[0m\u001b[0m\n",
      "\u001b[0;32m/home/alex/optking/intcosMisc.pyc\u001b[0m in \u001b[0;36mGmat\u001b[0;34m(intcos, geom, masses)\u001b[0m\n\u001b[1;32m     62\u001b[0m \u001b[0;34m\u001b[0m\u001b[0m\n\u001b[1;32m     63\u001b[0m \u001b[0;32mdef\u001b[0m \u001b[0mGmat\u001b[0m\u001b[0;34m(\u001b[0m\u001b[0mintcos\u001b[0m\u001b[0;34m,\u001b[0m \u001b[0mgeom\u001b[0m\u001b[0;34m,\u001b[0m \u001b[0mmasses\u001b[0m\u001b[0;34m=\u001b[0m\u001b[0mNone\u001b[0m\u001b[0;34m)\u001b[0m\u001b[0;34m:\u001b[0m\u001b[0;34m\u001b[0m\u001b[0m\n\u001b[0;32m---> 64\u001b[0;31m     \u001b[0mB\u001b[0m \u001b[0;34m=\u001b[0m \u001b[0mBmat\u001b[0m\u001b[0;34m(\u001b[0m\u001b[0mintcos\u001b[0m\u001b[0;34m,\u001b[0m \u001b[0mgeom\u001b[0m\u001b[0;34m,\u001b[0m \u001b[0mmasses\u001b[0m\u001b[0;34m)\u001b[0m\u001b[0;34m\u001b[0m\u001b[0m\n\u001b[0m\u001b[1;32m     65\u001b[0m \u001b[0;34m\u001b[0m\u001b[0m\n\u001b[1;32m     66\u001b[0m     \u001b[0;32mif\u001b[0m \u001b[0mmasses\u001b[0m \u001b[0;32mis\u001b[0m \u001b[0;32mnot\u001b[0m \u001b[0mNone\u001b[0m\u001b[0;34m:\u001b[0m\u001b[0;34m\u001b[0m\u001b[0m\n",
      "\u001b[0;32m/home/alex/optking/intcosMisc.pyc\u001b[0m in \u001b[0;36mBmat\u001b[0;34m(intcos, geom, masses)\u001b[0m\n\u001b[1;32m     53\u001b[0m \u001b[0;34m\u001b[0m\u001b[0m\n\u001b[1;32m     54\u001b[0m     \u001b[0;32mif\u001b[0m \u001b[0mmasses\u001b[0m \u001b[0;32mis\u001b[0m \u001b[0;32mnot\u001b[0m \u001b[0mNone\u001b[0m\u001b[0;34m:\u001b[0m\u001b[0;34m\u001b[0m\u001b[0m\n\u001b[0;32m---> 55\u001b[0;31m         \u001b[0mprint_opt\u001b[0m\u001b[0;34m(\u001b[0m\u001b[0;34m\"mass weighting B matrix\\n\"\u001b[0m\u001b[0;34m)\u001b[0m\u001b[0;34m\u001b[0m\u001b[0m\n\u001b[0m\u001b[1;32m     56\u001b[0m         \u001b[0;32mfor\u001b[0m \u001b[0mi\u001b[0m \u001b[0;32min\u001b[0m \u001b[0mrange\u001b[0m\u001b[0;34m(\u001b[0m\u001b[0mlen\u001b[0m\u001b[0;34m(\u001b[0m\u001b[0mintcos\u001b[0m\u001b[0;34m)\u001b[0m\u001b[0;34m)\u001b[0m\u001b[0;34m:\u001b[0m\u001b[0;34m\u001b[0m\u001b[0m\n\u001b[1;32m     57\u001b[0m             \u001b[0;32mfor\u001b[0m \u001b[0ma\u001b[0m \u001b[0;32min\u001b[0m \u001b[0mrange\u001b[0m\u001b[0;34m(\u001b[0m\u001b[0mlen\u001b[0m\u001b[0;34m(\u001b[0m\u001b[0mgeom\u001b[0m\u001b[0;34m)\u001b[0m\u001b[0;34m)\u001b[0m\u001b[0;34m:\u001b[0m\u001b[0;34m\u001b[0m\u001b[0m\n",
      "\u001b[0;31mTypeError\u001b[0m: 'NoneType' object is not callable"
     ]
    }
   ],
   "source": [
    "masses = Molsys.masses\n",
    "G = intcosMisc.Gmat(intcos, xyz, masses)\n",
    "Ginv = symmMatInv(G)\n",
    "B = intcosMisc.Bmat(intcos, xyz, masses)\n",
    "Atranspose = np.dot(Ginv, B)\n",
    "\n",
    "if g_x is None:  # A^t Hxy A\n",
    "    print_opt(\"Neglecting force/B-matrix derivative term, only correct at stationary points.\\n\")\n",
    "    Hworking = H\n",
    "else: # A^t (Hxy - Kxy) A;    K_xy = sum_q ( grad_q[I] d^2(q_I)/(dx dy) )\n",
    "    print_opt(\"Including force/B-matrix derivative term.\\n\")\n",
    "    Hworking = H.copy()\n",
    "\n",
    "    g_q = np.dot(Atranspose, g_x)\n",
    "    Ncart = 3*len(geom)\n",
    "    dq2dx2 = np.zeros((Ncart,Ncart), float)  # should be cart x cart for fragment ?\n",
    "\n",
    "    for I, q in enumerate(intcos):\n",
    "        dq2dx2[:] = 0\n",
    "        q.Dq2Dx2(geom, dq2dx2)   # d^2(q_I)/ dx_i dx_j\n",
    "\n",
    "        for a in range(Ncart):\n",
    "            for b in range(Ncart):\n",
    "                Hworking[a,b] -= g_q[I] * dq2dx2[a,b] # adjust indices for multiple fragments\n",
    "\n",
    "Hq = np.dot(Atranspose, np.dot(Hworking, Atranspose.T))\n",
    "print (Hq)"
   ]
  },
  {
   "cell_type": "markdown",
   "metadata": {},
   "source": [
    "And to convert back"
   ]
  },
  {
   "cell_type": "code",
   "execution_count": 19,
   "metadata": {},
   "outputs": [
    {
     "ename": "NameError",
     "evalue": "name 'geom' is not defined",
     "output_type": "error",
     "traceback": [
      "\u001b[0;31m---------------------------------------------------------------------------\u001b[0m",
      "\u001b[0;31mNameError\u001b[0m                                 Traceback (most recent call last)",
      "\u001b[0;32m<ipython-input-19-2b67fe6a2dde>\u001b[0m in \u001b[0;36m<module>\u001b[0;34m()\u001b[0m\n\u001b[0;32m----> 1\u001b[0;31m \u001b[0mB\u001b[0m \u001b[0;34m=\u001b[0m \u001b[0mintcosMisc\u001b[0m\u001b[0;34m.\u001b[0m\u001b[0mBmat\u001b[0m\u001b[0;34m(\u001b[0m\u001b[0mintcos\u001b[0m\u001b[0;34m,\u001b[0m \u001b[0mgeom\u001b[0m\u001b[0;34m,\u001b[0m \u001b[0mmasses\u001b[0m\u001b[0;34m)\u001b[0m\u001b[0;34m\u001b[0m\u001b[0m\n\u001b[0m\u001b[1;32m      2\u001b[0m \u001b[0mHxy\u001b[0m \u001b[0;34m=\u001b[0m \u001b[0mnp\u001b[0m\u001b[0;34m.\u001b[0m\u001b[0mdot\u001b[0m\u001b[0;34m(\u001b[0m\u001b[0mB\u001b[0m\u001b[0;34m.\u001b[0m\u001b[0mT\u001b[0m\u001b[0;34m,\u001b[0m \u001b[0mnp\u001b[0m\u001b[0;34m.\u001b[0m\u001b[0mdot\u001b[0m\u001b[0;34m(\u001b[0m\u001b[0mHint\u001b[0m\u001b[0;34m,\u001b[0m \u001b[0mB\u001b[0m\u001b[0;34m)\u001b[0m\u001b[0;34m)\u001b[0m\u001b[0;34m\u001b[0m\u001b[0m\n\u001b[1;32m      3\u001b[0m \u001b[0;34m\u001b[0m\u001b[0m\n\u001b[1;32m      4\u001b[0m \u001b[0;32mif\u001b[0m \u001b[0mg_q\u001b[0m \u001b[0;32mis\u001b[0m \u001b[0mNone\u001b[0m\u001b[0;34m:\u001b[0m  \u001b[0;31m# Hxy =  B^t Hij B\u001b[0m\u001b[0;34m\u001b[0m\u001b[0m\n\u001b[1;32m      5\u001b[0m     \u001b[0mprint_opt\u001b[0m\u001b[0;34m(\u001b[0m\u001b[0;34m\"Neglecting force/B-matrix derivative term, only correct at stationary points.\\n\"\u001b[0m\u001b[0;34m)\u001b[0m\u001b[0;34m\u001b[0m\u001b[0m\n",
      "\u001b[0;31mNameError\u001b[0m: name 'geom' is not defined"
     ]
    }
   ],
   "source": [
    "B = intcosMisc.Bmat(intcos, geom, masses)\n",
    "Hxy = np.dot(B.T, np.dot(Hint, B))\n",
    "\n",
    "if g_q is None:  # Hxy =  B^t Hij B\n",
    "    print_opt(\"Neglecting force/B-matrix derivative term, only correct at stationary points.\\n\")\n",
    "else:            # Hxy += dE/dq_I d2(q_I)/dxdy\n",
    "    print_opt(\"Including force/B-matrix derivative term.\\n\")\n",
    "    Ncart = 3 * len(geom)\n",
    "\n",
    "    dq2dx2 = np.zeros((Ncart, Ncart), float)  # should be cart x cart for fragment ?\n",
    "    for I, q in enumerate(intcos):\n",
    "        dq2dx2[:] = 0\n",
    "        q.Dq2Dx2(geom, dq2dx2);\n",
    "\n",
    "        for a in range(Ncart):\n",
    "            for b in range(Ncart):\n",
    "                Hxy[a, b] += g_q[I] * dq2dx2[a,b]\n",
    "                    \n",
    "print (Hxy)                    "
   ]
  },
  {
   "cell_type": "code",
   "execution_count": 9,
   "metadata": {},
   "outputs": [
    {
     "ename": "IndentationError",
     "evalue": "expected an indented block (<ipython-input-9-96fdb1679891>, line 10)",
     "output_type": "error",
     "traceback": [
      "\u001b[0;36m  File \u001b[0;32m\"<ipython-input-9-96fdb1679891>\"\u001b[0;36m, line \u001b[0;32m10\u001b[0m\n\u001b[0;31m    BB = 0.352\u001b[0m\n\u001b[0m     ^\u001b[0m\n\u001b[0;31mIndentationError\u001b[0m\u001b[0;31m:\u001b[0m expected an indented block\n"
     ]
    }
   ],
   "source": [
    "        R = v3d.dist(geom[self.A],geom[self.B])\n",
    "        PerA = ZtoPeriod(Z[self.A])\n",
    "        PerB = ZtoPeriod(Z[self.B])\n",
    "\n",
    "        AA = 1.734\n",
    "        if PerA == 1:\n",
    "            if PerB == 1:\n",
    "                BB = -0.244\n",
    "            elif PerB == 2:\n",
    "            BB = 0.352\n",
    "                else:\n",
    "            BB = 0.660\n",
    "        elif PerA == 2:\n",
    "            if PerB == 1:\n",
    "            BB = 0.352\n",
    "                elif PerB == 2:\n",
    "            BB = 1.085\n",
    "            else:\n",
    "            BB = 1.522\n",
    "        else:\n",
    "            if PerB == 1:\n",
    "            BB = 0.660\n",
    "                elif PerB == 2:\n",
    "            BB = 1.522\n",
    "                else:\n",
    "            BB = 2.068\n",
    "            \n",
    "        F = AA/((R-BB)*(R-BB)*(R-BB))\n",
    "        return F\n",
    "                                                                                                      156,0-1       71%"
   ]
  },
  {
   "cell_type": "code",
   "execution_count": null,
   "metadata": {
    "collapsed": true
   },
   "outputs": [],
   "source": []
  }
 ],
 "metadata": {
  "kernelspec": {
   "display_name": "Python 2",
   "language": "python",
   "name": "python2"
  },
  "language_info": {
   "codemirror_mode": {
    "name": "ipython",
    "version": 2
   },
   "file_extension": ".py",
   "mimetype": "text/x-python",
   "name": "python",
   "nbconvert_exporter": "python",
   "pygments_lexer": "ipython2",
   "version": "2.7.13"
  }
 },
 "nbformat": 4,
 "nbformat_minor": 2
}
