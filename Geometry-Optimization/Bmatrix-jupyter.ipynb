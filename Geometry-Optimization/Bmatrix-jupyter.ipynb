{
 "cells": [
  {
   "cell_type": "code",
   "execution_count": 8,
   "metadata": {
    "collapsed": false
   },
   "outputs": [
    {
     "name": "stdout",
     "output_type": "stream",
     "text": [
      "hello\n"
     ]
    }
   ],
   "source": [
    "# A simple Psi4 input script to compute a Wilson B matrix\n",
    "# edited with jupyter\n",
    "# Created by: Rollin A. King\n",
    "# Date: 7/27/17\n",
    "# License: GPL v3.0\n",
    "\n",
    "import numpy as np\n",
    "np.set_printoptions(precision=5, linewidth=200, suppress=True)\n",
    "import psi4\n",
    "print 'hello'"
   ]
  },
  {
   "cell_type": "markdown",
   "metadata": {},
   "source": [
    "Trying CellType=Markdown\n",
    "This is how you make standard headers\n",
    "# Example of special characters:\n",
    "## header\n",
    "### header\n",
    "#### another one\n",
    "\n",
    "you can insert LaTex Equations using dollar signs.\n",
    "$$c = \\sqrt{a^2 + b^2}$$\n"
   ]
  },
  {
   "cell_type": "code",
   "execution_count": 3,
   "metadata": {
    "collapsed": false
   },
   "outputs": [
    {
     "name": "stdout",
     "output_type": "stream",
     "text": [
      "set the cell memory\n"
     ]
    }
   ],
   "source": [
    "# Memory for Psi4 in GB\n",
    "psi4.set_memory('1 GB')\n",
    "psi4.core.set_output_file('output.dat',False)\n",
    "\n",
    "import optking\n",
    "# Memory for numpy in GB\n",
    "numpy_memory = 2\n",
    "print 'set the cell memory'"
   ]
  },
  {
   "cell_type": "code",
   "execution_count": 5,
   "metadata": {
    "collapsed": false
   },
   "outputs": [
    {
     "name": "stdout",
     "output_type": "stream",
     "text": [
      "Cartesian geometry\n",
      "[[ 0.       0.      -0.14323]\n",
      " [ 0.      -1.63804  1.13655]\n",
      " [ 0.       1.63804  1.13655]]\n",
      "Cartesian gradient\n",
      "[[ 0.       0.      -0.12461]\n",
      " [-0.      -0.08883  0.0623 ]\n",
      " [ 0.       0.08883  0.0623 ]]\n",
      "     Coordinate          Value\n",
      "         R(1,2) =      2.07869875\n",
      "         R(2,3) =      3.27607393\n",
      "       B(1,2,3) =      0.66322512\n"
     ]
    }
   ],
   "source": [
    "mol = psi4.geometry(\"\"\"\n",
    "O\n",
    "H 1 1.1\n",
    "H 1 1.1 2 104\n",
    "symmetry c1\n",
    "\"\"\")\n",
    "\n",
    "# Set some options\n",
    "psi4.set_options({\"basis\": \"cc-pvdz\",\n",
    "                  \"scf_type\": \"pk\",\n",
    "                  \"e_convergence\": 1e-8})\n",
    "\n",
    "mol.update_geometry()\n",
    "xyz = np.array( mol.geometry() )\n",
    "print('Cartesian geometry')\n",
    "print(xyz)\n",
    "\n",
    "g_xyz = np.array( psi4.gradient('hf') )\n",
    "print('Cartesian gradient')\n",
    "print(g_xyz)\n",
    "\n",
    "# Create some internal coordinates for water.\n",
    "# Numbering starts with atom 0.\n",
    "from optking import stre,bend\n",
    "r1 = stre.STRE(0,1)\n",
    "r2 = stre.STRE(1,2)\n",
    "theta = bend.BEND(0,1,2)\n",
    "intcos = [r1,r2,theta]\n",
    "\n",
    "print(\"%15s%15s\" % ('Coordinate', 'Value'))\n",
    "for I in intcos:\n",
    "  print(\"%15s = %15.8f\" % (I, I.q(xyz)))"
   ]
  },
  {
   "cell_type": "code",
   "execution_count": 6,
   "metadata": {
    "collapsed": false
   },
   "outputs": [
    {
     "name": "stdout",
     "output_type": "stream",
     "text": [
      "B matrix\n",
      "[[-0.       0.78801 -0.61566  0.      -0.78801  0.61566  0.       0.       0.     ]\n",
      " [ 0.       0.       0.      -0.      -1.      -0.       0.       1.       0.     ]\n",
      " [ 0.      -0.29618 -0.37909  0.       0.29618  0.07385  0.      -0.       0.30524]]\n"
     ]
    }
   ],
   "source": [
    "from optking import intcosMisc\n",
    "Bmatrix = intcosMisc.Bmat(intcos, xyz)\n",
    "print('B matrix')\n",
    "print(Bmatrix)"
   ]
  },
  {
   "cell_type": "code",
   "execution_count": null,
   "metadata": {
    "collapsed": true
   },
   "outputs": [],
   "source": []
  }
 ],
 "metadata": {
  "kernelspec": {
   "display_name": "Python 2",
   "language": "python",
   "name": "python2"
  },
  "language_info": {
   "codemirror_mode": {
    "name": "ipython",
    "version": 2
   },
   "file_extension": ".py",
   "mimetype": "text/x-python",
   "name": "python",
   "nbconvert_exporter": "python",
   "pygments_lexer": "ipython2",
   "version": "2.7.10"
  }
 },
 "nbformat": 4,
 "nbformat_minor": 1
}
