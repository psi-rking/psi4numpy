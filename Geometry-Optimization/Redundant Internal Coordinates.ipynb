{
 "cells": [
  {
   "cell_type": "markdown",
   "metadata": {},
   "source": [
    "# Redundant Internal Coordinates\n",
    "#### This is a tutorial for the conversion to and from internal coordinates using the B matrix.\n",
    "\n",
    "Redundent Internal Coordiantes, as proposed by Bakken and Helgaker, are defined using stretches, bends, and dihedral angles. Including vibrational motions, there are up to 3N-6 degrees of freedom for a molecule. Defining water with internal coordinates, there are two stretches, and one bend this defining all degrees of freedom. For molecules with more than three atoms, the number of internal coordiantes quickly becomes greater than the number of degrees of freedom and thus redundant.  \n",
    "\n",
    "In order to convert cartesian coordiantes to internal coordinates, Wilson B matrix is used. The B matrix is defined as the derivative of the internal coordinates with respect to cartesian coordinates, and has dimensions of internal coordinates by 3 * N. \n",
    "\n",
    "$$\\textbf {B}_{ij} = \\frac{\\delta q_i}{\\delta x_j}$$\n",
    "\n",
    "Simple rearrangment allows for the conversion between small changes in cartesian geometry to internal coordinates\n",
    "$$\\textbf {B}_{ij} \\delta x = \\delta q$$\n",
    "\n",
    "This does not allow for the direct conversion between the geometry in cartesians and in internals. However, this isn't particularly helpful, since our goal is usually to conver a change in internal coordinates to cartesians which is covered later in discussing the back transformation. To create the internal geometry, we need to calculate the distances and angles using simple geometry.\n",
    "\n",
    "Lets start by defining a simple cartesian geometry for ammonia and then defining all of the internal coordinates for the molecule. Note that the number of internal coordinates is greater than the number of degrees of freedom."
   ]
  },
  {
   "cell_type": "code",
   "execution_count": 14,
   "metadata": {
    "scrolled": false
   },
   "outputs": [
    {
     "name": "stdout",
     "output_type": "stream",
     "text": [
      "hi\tSearching PubChem database for ammonium\n",
      "\tFound 1 result\n",
      "Starting Geometry for Ammonium\n",
      "[[  0.00000000e+00  -8.29781462e-35   3.92826956e-06]\n",
      " [  1.58424594e+00   4.85035429e-17   1.12021175e+00]\n",
      " [  4.85021276e-17  -1.58419971e+00  -1.12023904e+00]\n",
      " [ -1.58424594e+00  -4.85035429e-17   1.12021175e+00]\n",
      " [ -4.85021276e-17   1.58419971e+00  -1.12023904e+00]]\n",
      "\n",
      "List of internal Coordinates in Bohr and Radians\n",
      " 1  R(1,2) 1.9402836773125387\n",
      " 2  R(1,3) 1.9402662259545544\n",
      " 3  R(1,4) 1.9402836773125387\n",
      " 4  R(1,5) 1.9402662259545544\n",
      " 5  B(2,1,3) 1.9106377347342236\n",
      " 6  B(3,1,4) 1.9106377347342236\n",
      " 7  B(4,1,5) 1.9106377347342236\n",
      " 8  B(2,1,5) 1.9106377347342236\n",
      " 9  B(3,1,5) 1.9105956933089669\n",
      " 10  B(2,1,4) 1.9106527844269028\n",
      "\n",
      " Geometry in internals\n",
      "   1.940284   1.940266   1.940284   1.940266   1.910638   1.910638   1.910638\n",
      "   1.910638   1.910596   1.910653\n"
     ]
    }
   ],
   "source": [
    "import psi4\n",
    "import numpy as np\n",
    "from optking import printTools\n",
    "printTools.printInit(printTools.cleanPrint)\n",
    "printTools.print_opt(\"hi\")\n",
    "\n",
    "#a starting geometry can be taken from pubchem\n",
    "mol = psi4.geometry(\"\"\"\n",
    "  pubchem:ammonium\n",
    "\"\"\")\n",
    "mol.set_multiplicity (1)\n",
    "mol.set_molecular_charge(1)\n",
    "\n",
    "# Set some options\n",
    "psi4.set_options({\"basis\": \"cc-pvdz\",\n",
    "                  \"scf_type\": \"pk\",\n",
    "                  \"e_convergence\": 1e-8})\n",
    "mol.update_geometry()\n",
    "xyzGeom = np.array(mol.geometry())\n",
    "print (\"Starting Geometry for Ammonium\")\n",
    "print (xyzGeom)\n",
    "\n",
    "\n",
    "from optking import stre, bend\n",
    "r1 = stre.STRE(0,1)\n",
    "r2 = stre.STRE(0,2)\n",
    "r3 = stre.STRE(0,3)\n",
    "r4 = stre.STRE(0,4)\n",
    "b1 = bend.BEND(1,0,2)\n",
    "b2 = bend.BEND(2,0,3)\n",
    "b3 = bend.BEND(3,0,4)\n",
    "b4 = bend.BEND(4,0,1)\n",
    "b5 = bend.BEND(4,0,2)\n",
    "b6 = bend.BEND(3,0,1)\n",
    "intcos = (r1, r2, r3, r4, b1, b2, b3, b4, b5, b6)\n",
    "\n",
    "print (\"\\nList of internal Coordinates in Bohr and Radians\")\n",
    "for i in range (len(intcos)):\n",
    "    #q(xyzGeom) simply calls v3d.dist() for the two atoms in a stretch, and v3d.angle() for the three atoms in a bond angle\n",
    "    print (\" %d %s %.16f\" % (i + 1, intcos[i], intcos[i].q(xyzGeom)))\n",
    "\n",
    "#create an array for geometry in internals\n",
    "qGeom = np.zeros(len(intcos), float)\n",
    "for i in range (len(intcos)):\n",
    "    qGeom[i] = intcos[i].q(xyzGeom)\n",
    "\n",
    "print(\"\\n Geometry in internals\")    \n",
    "printTools.printArray(qGeom)    "
   ]
  },
  {
   "cell_type": "markdown",
   "metadata": {},
   "source": [
    "Our goal is to calculate the step in internal coordintes, this requires that either the forces or gradient are converted into internals.\n",
    "\n",
    "In order to convert between the gradient or forces we need to introduce $\\delta E$ luckily this easily simplifies to the form we need\n",
    "\n",
    "$$\\frac{\\textbf {B}}{\\delta q} = (\\delta x)^{-1} \\equiv \\frac{\\delta q}{\\delta x} \\frac{\\delta E}{\\delta q} = \\frac{\\delta E}{\\delta x} \\equiv \\textbf{B}^T g_q = g_x$$ \n",
    "\n",
    "First lets get the gradient from Psi4, which is in cartesian"
   ]
  },
  {
   "cell_type": "code",
   "execution_count": 17,
   "metadata": {},
   "outputs": [
    {
     "name": "stdout",
     "output_type": "stream",
     "text": [
      "[[ -2.95822839e-31   0.00000000e+00  -2.06186439e-06]\n",
      " [  8.05561725e-03   2.46632147e-19   5.69463262e-03]\n",
      " [  2.46334235e-19  -8.04588669e-03  -5.69360169e-03]\n",
      " [ -8.05561725e-03  -2.46632147e-19   5.69463262e-03]\n",
      " [ -2.46334235e-19   8.04588669e-03  -5.69360169e-03]]\n"
     ]
    }
   ],
   "source": [
    "psi4gradientMatrix = psi4.gradient('hf')\n",
    "g = np.array( psi4gradientMatrix )\n",
    "print (g)"
   ]
  },
  {
   "cell_type": "markdown",
   "metadata": {},
   "source": [
    "Whereas the conversion of dispalcements into internals and gradients into cartesians was quite simple. Converting back becomes significantly easier\n",
    "\n",
    "In order to convert gradients or dispalcements into internal cooordinates we need to implement the psuedo Inverse of the B matrix.\n",
    "\n",
    "For gradients we start with\n",
    "$$g_x = \\textbf B^T f_q$$\n",
    "To make B a sqaure invertible matrix we introducing the square 3N * 3N arbitrary matrix U, which is taken to be the identity matrix\n",
    "$$ ug_x = u \\textbf B^T f_q$$\n",
    "$$ \\textbf Bug_x = \\textbf Bu \\textbf B^T f_q$$\n",
    "$$ (\\textbf Bu \\textbf B^T)^{-1} \\textbf Bug_x = (\\textbf Bu \\textbf B^T)^{-1} \\textbf Bu \\textbf B^T f_q$$\n",
    "$$ (\\textbf Bu \\textbf B^T)^{-1} \\textbf Bug_x = f_q$$\n",
    "Reducing $(\\textbf Bu \\textbf B^T)$ to its more common designation $\\textbf G$ leaves us with\n",
    "$$ \\textbf G^{-1} \\textbf {B}ug_x = f_q$$"
   ]
  },
  {
   "cell_type": "markdown",
   "metadata": {
    "collapsed": true
   },
   "source": [
    "The conversion of displacements into cartesians nessecitates the use of an iterative procedure called the back transformation.\n",
    "As with the conversion of forces or gradients, implementation of the pseudo inverse leads to the similar looking result.\n",
    "$$ \\textbf G^{-1}_0 \\textbf {B}^T_0 u\\Delta q_0 = \\Delta x_0$$\n",
    "\n",
    "Here, the G matrix has dimensions of cartesian not internals as it is calculated with $\\textbf B^Tu \\textbf B$ where the u matrix has dimesnions of the number of internal coordinates\n",
    "\n",
    "The iterative back transformation becomes nessecary because the new cartesian geometry is not perfectly eqivalent to the new geometry we stepped to in internals\n",
    "$$x_0 + \\Delta x = x_1$$\n",
    "To converge on the correct cartesian geometry, we take the error in internals and convert again to cartesians\n",
    "\n",
    "Call the cartesian geometry converted back to internals as previously shown, $q_x$ and the geometry we calcualted $q_1$ then\n",
    "$$q_x - q_1 = q_\\epsilon$$\n",
    "We can then resolve our convesian equation having recalulated the nessecary matrices at the new geometry\n",
    "$$ \\textbf G^{-1}_n \\textbf {B}_n^T u\\Delta q_\\epsilon = \\Delta x_n$$\n",
    "\n",
    "\n"
   ]
  },
  {
   "cell_type": "markdown",
   "metadata": {},
   "source": [
    "To demonsrtrate the need for the back transformation, we'll take a step, in internal coordinates, of 0.2 bohr for the bond lengths and then convert it into cartesians, and back again into internals"
   ]
  },
  {
   "cell_type": "code",
   "execution_count": 18,
   "metadata": {},
   "outputs": [
    {
     "name": "stdout",
     "output_type": "stream",
     "text": [
      "New internal geometry\n",
      "   2.140284   2.140266   2.140284   2.140266   1.910638   1.910638   1.910638\n",
      "   1.910638   1.910596   1.910653\n",
      "   2.750073   0.000000   0.000000  -0.843766  -0.000000  -0.220952  -0.531270\n",
      "   0.000000   0.000000  -0.843766  -0.000000   0.220952  -0.531270   0.000000\n",
      "  -0.000000\n",
      "   0.000000   2.749949   0.000000  -0.000000  -0.531241  -0.000000   0.000000\n",
      "  -0.843733  -0.220986  -0.000000  -0.531241   0.000000   0.000000  -0.843733\n",
      "   0.220986\n",
      "   0.000000   0.000000   2.750023  -0.220965  -0.000000  -0.687503   0.000000\n",
      "  -0.220973  -0.687509   0.220965   0.000000  -0.687503  -0.000000   0.220973\n",
      "  -0.687509\n",
      "  -0.843766  -0.000000  -0.220965   0.799488   0.000000   0.283573   0.066409\n",
      "  -0.022136   0.031304  -0.088539  -0.000000  -0.125216   0.066409   0.022136\n",
      "   0.031304\n",
      "  -0.000000  -0.531241  -0.000000   0.000000   0.398429   0.000000  -0.199220\n",
      "   0.066406  -0.093909  -0.000000  -0.000000  -0.000000   0.199220   0.066406\n",
      "   0.093909\n",
      "  -0.220952  -0.000000  -0.687503   0.283573   0.000000   0.598959  -0.093918\n",
      "   0.031306  -0.044271   0.125216   0.000000   0.177086  -0.093918  -0.031306\n",
      "  -0.044271\n",
      "  -0.531270   0.000000   0.000000   0.066409  -0.199220  -0.093918   0.398452\n",
      "  -0.000000  -0.000000   0.066409   0.199220   0.093918  -0.000000   0.000000\n",
      "   0.000000\n",
      "   0.000000  -0.843733  -0.220973  -0.022136   0.066406   0.031306  -0.000000\n",
      "   0.799469   0.283583   0.022136   0.066406   0.031306   0.000000  -0.088548\n",
      "  -0.125221\n",
      "   0.000000  -0.220986  -0.687509   0.031304  -0.093909  -0.044271  -0.000000\n",
      "   0.283583   0.598970  -0.031304  -0.093909  -0.044271  -0.000000   0.125221\n",
      "   0.177082\n",
      "  -0.843766  -0.000000   0.220965  -0.088539  -0.000000   0.125216   0.066409\n",
      "   0.022136  -0.031304   0.799488   0.000000  -0.283573   0.066409  -0.022136\n",
      "  -0.031304\n",
      "  -0.000000  -0.531241   0.000000  -0.000000  -0.000000   0.000000   0.199220\n",
      "   0.066406  -0.093909   0.000000   0.398429  -0.000000  -0.199220   0.066406\n",
      "   0.093909\n",
      "   0.220952   0.000000  -0.687503  -0.125216  -0.000000   0.177086   0.093918\n",
      "   0.031306  -0.044271  -0.283573  -0.000000   0.598959   0.093918  -0.031306\n",
      "  -0.044271\n",
      "  -0.531270   0.000000  -0.000000   0.066409   0.199220  -0.093918  -0.000000\n",
      "   0.000000  -0.000000   0.066409  -0.199220   0.093918   0.398452  -0.000000\n",
      "   0.000000\n",
      "   0.000000  -0.843733   0.220973   0.022136   0.066406  -0.031306   0.000000\n",
      "  -0.088548   0.125221  -0.022136   0.066406  -0.031306  -0.000000   0.799469\n",
      "  -0.283583\n",
      "  -0.000000   0.220986  -0.687509   0.031304   0.093909  -0.044271   0.000000\n",
      "  -0.125221   0.177082  -0.031304   0.093909  -0.044271   0.000000  -0.283583\n",
      "   0.598970\n",
      "Displacement in cartesians\n",
      "   0.000000  -0.000000   0.000002   0.163300   0.000000   0.115470  -0.000000\n",
      "  -0.163297  -0.115471  -0.163300   0.000000   0.115470   0.000000   0.163297\n",
      "  -0.115471\n",
      "Old geometry\n",
      "[[  0.00000000e+00  -8.29781462e-35   3.92826956e-06]\n",
      " [  1.58424594e+00   4.85035429e-17   1.12021175e+00]\n",
      " [  4.85021276e-17  -1.58419971e+00  -1.12023904e+00]\n",
      " [ -1.58424594e+00  -4.85035429e-17   1.12021175e+00]\n",
      " [ -4.85021276e-17   1.58419971e+00  -1.12023904e+00]]\n",
      "New geometry\n",
      "[[  2.25514052e-17  -6.59194921e-17   5.79285173e-06]\n",
      " [  1.74754638e+00   1.80342527e-16   1.23568207e+00]\n",
      " [ -1.30805558e-17  -1.74749686e+00  -1.23571029e+00]\n",
      " [ -1.74754638e+00   1.14560464e-16   1.23568207e+00]\n",
      " [ -3.20222546e-17   1.74749686e+00  -1.23571029e+00]]\n",
      "New geometry with error\n",
      "[ 2.14028368  2.14026623  2.14028368  2.14026623  1.91063773  1.91063773\n",
      "  1.91063773  1.91063773  1.91059569  1.91065278]\n"
     ]
    },
    {
     "ename": "NameError",
     "evalue": "name 'qGeom0' is not defined",
     "output_type": "error",
     "traceback": [
      "\u001b[0;31m---------------------------------------------------------------------------\u001b[0m",
      "\u001b[0;31mNameError\u001b[0m                                 Traceback (most recent call last)",
      "\u001b[0;32m<ipython-input-18-d3542f020f1d>\u001b[0m in \u001b[0;36m<module>\u001b[0;34m()\u001b[0m\n\u001b[1;32m     35\u001b[0m \u001b[0;32mprint\u001b[0m \u001b[0;34m(\u001b[0m\u001b[0;34m\"New geometry with error\"\u001b[0m\u001b[0;34m)\u001b[0m\u001b[0;34m\u001b[0m\u001b[0m\n\u001b[1;32m     36\u001b[0m \u001b[0;32mprint\u001b[0m \u001b[0;34m(\u001b[0m\u001b[0mqGeom1\u001b[0m\u001b[0;34m)\u001b[0m\u001b[0;34m\u001b[0m\u001b[0m\n\u001b[0;32m---> 37\u001b[0;31m \u001b[0mdq1Prime\u001b[0m \u001b[0;34m=\u001b[0m \u001b[0mnp\u001b[0m\u001b[0;34m.\u001b[0m\u001b[0msubtract\u001b[0m\u001b[0;34m(\u001b[0m\u001b[0mqGeom1\u001b[0m\u001b[0;34m,\u001b[0m \u001b[0mqGeom0\u001b[0m\u001b[0;34m)\u001b[0m \u001b[0;31m#This is the actual Dq we took\u001b[0m\u001b[0;34m\u001b[0m\u001b[0m\n\u001b[0m\u001b[1;32m     38\u001b[0m \u001b[0;32mprint\u001b[0m \u001b[0;34m(\u001b[0m\u001b[0;34m\"Acutal step from cartesians\"\u001b[0m\u001b[0;34m)\u001b[0m\u001b[0;34m\u001b[0m\u001b[0m\n\u001b[1;32m     39\u001b[0m \u001b[0;32mprint\u001b[0m \u001b[0;34m(\u001b[0m\u001b[0mdq1Prime\u001b[0m\u001b[0;34m)\u001b[0m\u001b[0;34m\u001b[0m\u001b[0m\n",
      "\u001b[0;31mNameError\u001b[0m: name 'qGeom0' is not defined"
     ]
    }
   ],
   "source": [
    "from optking import intcosMisc\n",
    "from optking import linearAlgebra\n",
    "dq0 = np.zeros(len(intcos), float)\n",
    "for i in range (4):\n",
    "    dq0[i] = 0.2\n",
    "\n",
    "#This is what we should be stepping to    \n",
    "qGeomWanted = np.add(qGeom, dq0)\n",
    "print(\"New internal geometry\")\n",
    "printTools.printArray(qGeomWanted)\n",
    "\n",
    "B0 = intcosMisc.Bmat(intcos, xyzGeom)\n",
    "\n",
    "G0 = np.dot(B0.T, B0) \n",
    "#the u identity matrix is omittted above due to the dimensions\n",
    "printTools.printMat(G0)    \n",
    "G0inv = linearAlgebra.symmMatInv(G0, True)\n",
    "u = np.identity(len(intcos))\n",
    "dx0 = np.dot(G0inv, np.dot(B0.T, np.dot(u, dq0)))\n",
    "\n",
    "print (\"Displacement in cartesians\")\n",
    "printTools.printArray(dx0)\n",
    "dx0mat = np.reshape(dx0, (5, 3))\n",
    "#Compare the cartesian geometries\n",
    "xyzGeom0 = np.add(dx0mat, xyzGeom)\n",
    "print (\"Old geometry\")\n",
    "print (xyzGeom)\n",
    "print (\"New geometry\")\n",
    "print(xyzGeom0)\n",
    "\n",
    "\n",
    "qGeom1 = np.zeros(len(intcos), float)\n",
    "for i in range (len(intcos)):\n",
    "    qGeom1[i] = (intcos[i].q(xyzGeom0))\n",
    "print (\"New geometry with error\")    \n",
    "print (qGeom1)\n",
    "dq1Prime = np.subtract(qGeom1, qGeom0) #This is the actual Dq we took\n",
    "print (\"Acutal step from cartesians\")\n",
    "print (dq1Prime)\n",
    "\n",
    "Dq1 = np.subtract(dq0, dq1Prime) #This is the error in Dq\n",
    "\n",
    "print (\"This is why we need to back transformation\")\n",
    "print (Dq1)"
   ]
  },
  {
   "cell_type": "code",
   "execution_count": null,
   "metadata": {
    "collapsed": true
   },
   "outputs": [],
   "source": []
  }
 ],
 "metadata": {
  "kernelspec": {
   "display_name": "Python 2",
   "language": "python",
   "name": "python2"
  },
  "language_info": {
   "codemirror_mode": {
    "name": "ipython",
    "version": 2
   },
   "file_extension": ".py",
   "mimetype": "text/x-python",
   "name": "python",
   "nbconvert_exporter": "python",
   "pygments_lexer": "ipython2",
   "version": "2.7.13"
  }
 },
 "nbformat": 4,
 "nbformat_minor": 2
}
